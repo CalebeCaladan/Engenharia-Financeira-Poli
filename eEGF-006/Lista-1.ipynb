{
 "cells": [
  {
   "cell_type": "markdown",
   "id": "cde25191-d5de-4e3e-afb4-ab6c50ce5e5c",
   "metadata": {},
   "source": [
    "Nome: Estevão Calebe Almeidas Vilas Boas\n",
    "\n",
    "Matricula: 97276"
   ]
  },
  {
   "cell_type": "markdown",
   "id": "33fbf059-320d-4660-9548-5610c99d4f1a",
   "metadata": {
    "tags": []
   },
   "source": [
    "# Metodos Numericos - 1ª Lista de Exercícios - 2023"
   ]
  },
  {
   "cell_type": "code",
   "execution_count": 1,
   "id": "5d78f182-e1e2-40bd-b37c-8ba0bccc1488",
   "metadata": {},
   "outputs": [
    {
     "name": "stdout",
     "output_type": "stream",
     "text": [
      "Resposta: \n",
      "Raiz com precisão de 3 casas = 1.4658203125\n"
     ]
    },
    {
     "data": {
      "text/html": [
       "<div>\n",
       "<style scoped>\n",
       "    .dataframe tbody tr th:only-of-type {\n",
       "        vertical-align: middle;\n",
       "    }\n",
       "\n",
       "    .dataframe tbody tr th {\n",
       "        vertical-align: top;\n",
       "    }\n",
       "\n",
       "    .dataframe thead th {\n",
       "        text-align: right;\n",
       "    }\n",
       "</style>\n",
       "<table border=\"1\" class=\"dataframe\">\n",
       "  <thead>\n",
       "    <tr style=\"text-align: right;\">\n",
       "      <th></th>\n",
       "      <th>xa</th>\n",
       "      <th>xb</th>\n",
       "      <th>f(m)</th>\n",
       "    </tr>\n",
       "  </thead>\n",
       "  <tbody>\n",
       "    <tr>\n",
       "      <th>0</th>\n",
       "      <td>-2.000000</td>\n",
       "      <td>2.000000</td>\n",
       "      <td>-1.000000</td>\n",
       "    </tr>\n",
       "    <tr>\n",
       "      <th>1</th>\n",
       "      <td>0.000000</td>\n",
       "      <td>2.000000</td>\n",
       "      <td>-1.000000</td>\n",
       "    </tr>\n",
       "    <tr>\n",
       "      <th>2</th>\n",
       "      <td>1.000000</td>\n",
       "      <td>2.000000</td>\n",
       "      <td>0.125000</td>\n",
       "    </tr>\n",
       "    <tr>\n",
       "      <th>3</th>\n",
       "      <td>1.000000</td>\n",
       "      <td>1.500000</td>\n",
       "      <td>-0.609375</td>\n",
       "    </tr>\n",
       "    <tr>\n",
       "      <th>4</th>\n",
       "      <td>1.250000</td>\n",
       "      <td>1.500000</td>\n",
       "      <td>-0.291016</td>\n",
       "    </tr>\n",
       "    <tr>\n",
       "      <th>5</th>\n",
       "      <td>1.375000</td>\n",
       "      <td>1.500000</td>\n",
       "      <td>-0.095947</td>\n",
       "    </tr>\n",
       "    <tr>\n",
       "      <th>6</th>\n",
       "      <td>1.437500</td>\n",
       "      <td>1.500000</td>\n",
       "      <td>0.011200</td>\n",
       "    </tr>\n",
       "    <tr>\n",
       "      <th>7</th>\n",
       "      <td>1.437500</td>\n",
       "      <td>1.468750</td>\n",
       "      <td>-0.043194</td>\n",
       "    </tr>\n",
       "    <tr>\n",
       "      <th>8</th>\n",
       "      <td>1.453125</td>\n",
       "      <td>1.468750</td>\n",
       "      <td>-0.016203</td>\n",
       "    </tr>\n",
       "    <tr>\n",
       "      <th>9</th>\n",
       "      <td>1.460938</td>\n",
       "      <td>1.468750</td>\n",
       "      <td>-0.002554</td>\n",
       "    </tr>\n",
       "    <tr>\n",
       "      <th>10</th>\n",
       "      <td>1.464844</td>\n",
       "      <td>1.468750</td>\n",
       "      <td>0.004310</td>\n",
       "    </tr>\n",
       "    <tr>\n",
       "      <th>11</th>\n",
       "      <td>1.464844</td>\n",
       "      <td>1.466797</td>\n",
       "      <td>0.000875</td>\n",
       "    </tr>\n",
       "  </tbody>\n",
       "</table>\n",
       "</div>"
      ],
      "text/plain": [
       "          xa        xb      f(m)\n",
       "0  -2.000000  2.000000 -1.000000\n",
       "1   0.000000  2.000000 -1.000000\n",
       "2   1.000000  2.000000  0.125000\n",
       "3   1.000000  1.500000 -0.609375\n",
       "4   1.250000  1.500000 -0.291016\n",
       "5   1.375000  1.500000 -0.095947\n",
       "6   1.437500  1.500000  0.011200\n",
       "7   1.437500  1.468750 -0.043194\n",
       "8   1.453125  1.468750 -0.016203\n",
       "9   1.460938  1.468750 -0.002554\n",
       "10  1.464844  1.468750  0.004310\n",
       "11  1.464844  1.466797  0.000875"
      ]
     },
     "execution_count": 1,
     "metadata": {},
     "output_type": "execute_result"
    }
   ],
   "source": [
    "#  Exercicio 1\n",
    "import numpy as np\n",
    "import pandas as pd\n",
    "\n",
    "lista_a = []\n",
    "lista_b = []\n",
    "lista_fm = []\n",
    "\n",
    "def bissecao(f, a, b, tol):\n",
    "    # Verifica se o intervalo é fechado\n",
    "    if np.sign(f(a)) == np.sign(f(b)):\n",
    "        raise Exception(\"O intervalo a e b não é fechado\")        \n",
    "    \n",
    "    # Encontrando ponto médio\n",
    "    m = (a + b)/2\n",
    "\n",
    "    #  Colocando na lista para exibição\n",
    "    lista_a.append(a)\n",
    "    lista_b.append(b) \n",
    "    lista_fm.append(f(m)) \n",
    "    \n",
    "    #  Caso o resultado absoluto da função de m for menor que a tolerancia, a raiz é m\n",
    "    if np.abs(f(m)) < tol:\n",
    "        return m\n",
    "    \n",
    "    #  Caso o sinal de a seja igual ao de m\n",
    "    #  Chamo a função novamente com a = m\n",
    "    elif np.sign(f(a)) == np.sign(f(m)):\n",
    "        return bissecao(f, m, b, tol)\n",
    "\n",
    "    #  Caso o sinal de b seja igual ao de m\n",
    "    #  Chamo a função novamente com b = m\n",
    "    elif np.sign(f(b)) == np.sign(f(m)):\n",
    "        return bissecao(f, a, m, tol)\n",
    "    \n",
    "f = lambda x: x**3 - x**2 - 1\n",
    "raiz_001 = bissecao(f, -2, 2, 0.001)\n",
    "\n",
    "df = pd.DataFrame({'xa': lista_a, 'xb': lista_b, 'f(m)': lista_fm})\n",
    "\n",
    "print('Resposta: ')\n",
    "print(f\"Raiz com precisão de 3 casas = {raiz_001}\")\n",
    "df"
   ]
  },
  {
   "cell_type": "code",
   "execution_count": 2,
   "id": "d1f1ccdc-3caa-4f90-b096-e6d5b3ee15e7",
   "metadata": {},
   "outputs": [
    {
     "name": "stdout",
     "output_type": "stream",
     "text": [
      "Resposta: \n",
      "Raiz com precisão de 3 casas = 2.44482421875\n"
     ]
    },
    {
     "data": {
      "text/html": [
       "<div>\n",
       "<style scoped>\n",
       "    .dataframe tbody tr th:only-of-type {\n",
       "        vertical-align: middle;\n",
       "    }\n",
       "\n",
       "    .dataframe tbody tr th {\n",
       "        vertical-align: top;\n",
       "    }\n",
       "\n",
       "    .dataframe thead th {\n",
       "        text-align: right;\n",
       "    }\n",
       "</style>\n",
       "<table border=\"1\" class=\"dataframe\">\n",
       "  <thead>\n",
       "    <tr style=\"text-align: right;\">\n",
       "      <th></th>\n",
       "      <th>xa</th>\n",
       "      <th>xb</th>\n",
       "      <th>f(m)</th>\n",
       "    </tr>\n",
       "  </thead>\n",
       "  <tbody>\n",
       "    <tr>\n",
       "      <th>0</th>\n",
       "      <td>1.000000</td>\n",
       "      <td>3.000000</td>\n",
       "      <td>1.000000</td>\n",
       "    </tr>\n",
       "    <tr>\n",
       "      <th>1</th>\n",
       "      <td>2.000000</td>\n",
       "      <td>3.000000</td>\n",
       "      <td>-0.156854</td>\n",
       "    </tr>\n",
       "    <tr>\n",
       "      <th>2</th>\n",
       "      <td>2.000000</td>\n",
       "      <td>2.500000</td>\n",
       "      <td>0.493172</td>\n",
       "    </tr>\n",
       "    <tr>\n",
       "      <th>3</th>\n",
       "      <td>2.250000</td>\n",
       "      <td>2.500000</td>\n",
       "      <td>0.187642</td>\n",
       "    </tr>\n",
       "    <tr>\n",
       "      <th>4</th>\n",
       "      <td>2.375000</td>\n",
       "      <td>2.500000</td>\n",
       "      <td>0.020478</td>\n",
       "    </tr>\n",
       "    <tr>\n",
       "      <th>5</th>\n",
       "      <td>2.437500</td>\n",
       "      <td>2.500000</td>\n",
       "      <td>-0.066890</td>\n",
       "    </tr>\n",
       "    <tr>\n",
       "      <th>6</th>\n",
       "      <td>2.437500</td>\n",
       "      <td>2.468750</td>\n",
       "      <td>-0.022885</td>\n",
       "    </tr>\n",
       "    <tr>\n",
       "      <th>7</th>\n",
       "      <td>2.437500</td>\n",
       "      <td>2.453125</td>\n",
       "      <td>-0.001124</td>\n",
       "    </tr>\n",
       "    <tr>\n",
       "      <th>8</th>\n",
       "      <td>2.437500</td>\n",
       "      <td>2.445312</td>\n",
       "      <td>0.009697</td>\n",
       "    </tr>\n",
       "    <tr>\n",
       "      <th>9</th>\n",
       "      <td>2.441406</td>\n",
       "      <td>2.445312</td>\n",
       "      <td>0.004292</td>\n",
       "    </tr>\n",
       "    <tr>\n",
       "      <th>10</th>\n",
       "      <td>2.443359</td>\n",
       "      <td>2.445312</td>\n",
       "      <td>0.001585</td>\n",
       "    </tr>\n",
       "    <tr>\n",
       "      <th>11</th>\n",
       "      <td>2.444336</td>\n",
       "      <td>2.445312</td>\n",
       "      <td>0.000231</td>\n",
       "    </tr>\n",
       "  </tbody>\n",
       "</table>\n",
       "</div>"
      ],
      "text/plain": [
       "          xa        xb      f(m)\n",
       "0   1.000000  3.000000  1.000000\n",
       "1   2.000000  3.000000 -0.156854\n",
       "2   2.000000  2.500000  0.493172\n",
       "3   2.250000  2.500000  0.187642\n",
       "4   2.375000  2.500000  0.020478\n",
       "5   2.437500  2.500000 -0.066890\n",
       "6   2.437500  2.468750 -0.022885\n",
       "7   2.437500  2.453125 -0.001124\n",
       "8   2.437500  2.445312  0.009697\n",
       "9   2.441406  2.445312  0.004292\n",
       "10  2.443359  2.445312  0.001585\n",
       "11  2.444336  2.445312  0.000231"
      ]
     },
     "execution_count": 2,
     "metadata": {},
     "output_type": "execute_result"
    }
   ],
   "source": [
    "#  Exercicio 2\n",
    "import numpy as np\n",
    "import pandas as pd\n",
    "\n",
    "lista_a = []\n",
    "lista_b = []\n",
    "lista_fm = []\n",
    "\n",
    "def bissecao(f, a, b, tol):\n",
    "    # Verifica se o intervalo é fechado\n",
    "    if np.sign(f(a)) == np.sign(f(b)):\n",
    "        raise Exception(\"O intervalo a e b não é fechado\")        \n",
    "    \n",
    "    # Encontrando ponto médio\n",
    "    m = (a + b)/2\n",
    "\n",
    "    #  Colocando na lista para exibição\n",
    "    lista_a.append(a)\n",
    "    lista_b.append(b) \n",
    "    lista_fm.append(f(m)) \n",
    "    \n",
    "    #  Caso o resultado absoluto da função de m for menor que a tolerancia, a raiz é m\n",
    "    if np.abs(f(m)) < tol:\n",
    "        return m\n",
    "    \n",
    "    #  Caso o sinal de a seja igual ao de m\n",
    "    #  Chamo a função novamente com a = m\n",
    "    elif np.sign(f(a)) == np.sign(f(m)):\n",
    "        return bissecao(f, m, b, tol)\n",
    "\n",
    "    #  Caso o sinal de b seja igual ao de m\n",
    "    #  Chamo a função novamente com b = m\n",
    "    elif np.sign(f(b)) == np.sign(f(m)):\n",
    "        return bissecao(f, a, m, tol)\n",
    "    \n",
    "f = lambda x: x + 3 - 2 ** x\n",
    "raiz_001 = bissecao(f, 1, 3, 0.001)\n",
    "\n",
    "df = pd.DataFrame({'xa': lista_a, 'xb': lista_b, 'f(m)': lista_fm})\n",
    "\n",
    "print('Resposta: ')\n",
    "print(f\"Raiz com precisão de 3 casas = {raiz_001}\")\n",
    "df"
   ]
  },
  {
   "cell_type": "code",
   "execution_count": 3,
   "id": "29adc8b1-1c95-494b-be0e-e900bacb0bcd",
   "metadata": {},
   "outputs": [
    {
     "name": "stdout",
     "output_type": "stream",
     "text": [
      "Resposta: \n",
      "Aproximação usando o metodo de Newton-Raphson = 1.0000008970408238\n"
     ]
    },
    {
     "data": {
      "text/html": [
       "<div>\n",
       "<style scoped>\n",
       "    .dataframe tbody tr th:only-of-type {\n",
       "        vertical-align: middle;\n",
       "    }\n",
       "\n",
       "    .dataframe tbody tr th {\n",
       "        vertical-align: top;\n",
       "    }\n",
       "\n",
       "    .dataframe thead th {\n",
       "        text-align: right;\n",
       "    }\n",
       "</style>\n",
       "<table border=\"1\" class=\"dataframe\">\n",
       "  <thead>\n",
       "    <tr style=\"text-align: right;\">\n",
       "      <th></th>\n",
       "      <th>x0</th>\n",
       "      <th>f(x0)</th>\n",
       "      <th>df(x0)</th>\n",
       "      <th>x0 - f(x0)/df(x0)</th>\n",
       "    </tr>\n",
       "  </thead>\n",
       "  <tbody>\n",
       "    <tr>\n",
       "      <th>0</th>\n",
       "      <td>2.000000</td>\n",
       "      <td>3.000000e+00</td>\n",
       "      <td>6.000000</td>\n",
       "      <td>1.500000</td>\n",
       "    </tr>\n",
       "    <tr>\n",
       "      <th>1</th>\n",
       "      <td>1.500000</td>\n",
       "      <td>8.750000e-01</td>\n",
       "      <td>2.750000</td>\n",
       "      <td>1.181818</td>\n",
       "    </tr>\n",
       "    <tr>\n",
       "      <th>2</th>\n",
       "      <td>1.181818</td>\n",
       "      <td>2.208866e-01</td>\n",
       "      <td>1.462810</td>\n",
       "      <td>1.030817</td>\n",
       "    </tr>\n",
       "    <tr>\n",
       "      <th>3</th>\n",
       "      <td>1.030817</td>\n",
       "      <td>3.179557e-02</td>\n",
       "      <td>1.064482</td>\n",
       "      <td>1.000947</td>\n",
       "    </tr>\n",
       "    <tr>\n",
       "      <th>4</th>\n",
       "      <td>1.000947</td>\n",
       "      <td>9.480216e-04</td>\n",
       "      <td>1.001897</td>\n",
       "      <td>1.000001</td>\n",
       "    </tr>\n",
       "    <tr>\n",
       "      <th>5</th>\n",
       "      <td>1.000001</td>\n",
       "      <td>8.970416e-07</td>\n",
       "      <td>1.000002</td>\n",
       "      <td>1.000000</td>\n",
       "    </tr>\n",
       "  </tbody>\n",
       "</table>\n",
       "</div>"
      ],
      "text/plain": [
       "         x0         f(x0)    df(x0)  x0 - f(x0)/df(x0)\n",
       "0  2.000000  3.000000e+00  6.000000           1.500000\n",
       "1  1.500000  8.750000e-01  2.750000           1.181818\n",
       "2  1.181818  2.208866e-01  1.462810           1.030817\n",
       "3  1.030817  3.179557e-02  1.064482           1.000947\n",
       "4  1.000947  9.480216e-04  1.001897           1.000001\n",
       "5  1.000001  8.970416e-07  1.000002           1.000000"
      ]
     },
     "execution_count": 3,
     "metadata": {},
     "output_type": "execute_result"
    }
   ],
   "source": [
    "#  Exercicio 5\n",
    "import numpy as np\n",
    "\n",
    "lista_x0 = []\n",
    "lista_fx0 = []\n",
    "lista_dfx0 = []\n",
    "lista_fx0_dfx0 = []\n",
    "\n",
    "#  Usando o metodo de Newton-Raphson\n",
    "def newtonR(f, df, x0, tol):\n",
    "    \n",
    "    #  Colocando na lista para exibição\n",
    "    lista_x0.append(x0)\n",
    "    lista_fx0.append(f(x0)) \n",
    "    lista_dfx0.append(df(x0)) \n",
    "    lista_fx0_dfx0.append(x0 - f(x0)/df(x0))\n",
    "\n",
    "    #  Caso o resultado absoluto da função de x0 for menor que a tolerancia, a raiz é x0\n",
    "    if abs(f(x0)) < tol:\n",
    "        return x0\n",
    "    \n",
    "    #  Caso contrario, chamar novamente a função. Mas dessa vez, no lugar de x0, usar a equação recursiva de Newton-Raphson.\n",
    "    else:\n",
    "        return newtonR(f, df, x0 - f(x0)/df(x0), tol)\n",
    "    \n",
    "    \n",
    "f = lambda x: x**3 - 2*x**2 + 2*x - 1\n",
    "f_linha = lambda x: 3*x**2 - 4*x + 2\n",
    "\n",
    "estimativa = newtonR(f, f_linha, 2, 1e-6)\n",
    "\n",
    "df = pd.DataFrame({'x0': lista_x0, 'f(x0)': lista_fx0, 'df(x0)': lista_dfx0, 'x0 - f(x0)/df(x0)': lista_fx0_dfx0})\n",
    "\n",
    "print('Resposta: ')\n",
    "print(f\"Aproximação usando o metodo de Newton-Raphson = {estimativa}\")\n",
    "df"
   ]
  },
  {
   "cell_type": "code",
   "execution_count": 4,
   "id": "44d4bcb6-0932-4c9a-8c5c-6be52a1ac102",
   "metadata": {},
   "outputs": [
    {
     "name": "stdout",
     "output_type": "stream",
     "text": [
      "Resposta: \n",
      "Aproximação usando o metodo de Newton-Raphson = 1.8947450696911667\n"
     ]
    },
    {
     "data": {
      "text/html": [
       "<div>\n",
       "<style scoped>\n",
       "    .dataframe tbody tr th:only-of-type {\n",
       "        vertical-align: middle;\n",
       "    }\n",
       "\n",
       "    .dataframe tbody tr th {\n",
       "        vertical-align: top;\n",
       "    }\n",
       "\n",
       "    .dataframe thead th {\n",
       "        text-align: right;\n",
       "    }\n",
       "</style>\n",
       "<table border=\"1\" class=\"dataframe\">\n",
       "  <thead>\n",
       "    <tr style=\"text-align: right;\">\n",
       "      <th></th>\n",
       "      <th>x0</th>\n",
       "      <th>f(x0)</th>\n",
       "      <th>df(x0)</th>\n",
       "      <th>x0 - f(x0)/df(x0)</th>\n",
       "    </tr>\n",
       "  </thead>\n",
       "  <tbody>\n",
       "    <tr>\n",
       "      <th>0</th>\n",
       "      <td>1.570796</td>\n",
       "      <td>4.605395e-02</td>\n",
       "      <td>-0.214602</td>\n",
       "      <td>1.785398</td>\n",
       "    </tr>\n",
       "    <tr>\n",
       "      <th>1</th>\n",
       "      <td>1.785398</td>\n",
       "      <td>7.116978e-03</td>\n",
       "      <td>-0.120293</td>\n",
       "      <td>1.844562</td>\n",
       "    </tr>\n",
       "    <tr>\n",
       "      <th>2</th>\n",
       "      <td>1.844562</td>\n",
       "      <td>1.638544e-03</td>\n",
       "      <td>-0.062367</td>\n",
       "      <td>1.870834</td>\n",
       "    </tr>\n",
       "    <tr>\n",
       "      <th>3</th>\n",
       "      <td>1.870834</td>\n",
       "      <td>3.963294e-04</td>\n",
       "      <td>-0.031676</td>\n",
       "      <td>1.883346</td>\n",
       "    </tr>\n",
       "    <tr>\n",
       "      <th>4</th>\n",
       "      <td>1.883346</td>\n",
       "      <td>9.760117e-05</td>\n",
       "      <td>-0.015955</td>\n",
       "      <td>1.889464</td>\n",
       "    </tr>\n",
       "    <tr>\n",
       "      <th>5</th>\n",
       "      <td>1.889464</td>\n",
       "      <td>2.422483e-05</td>\n",
       "      <td>-0.008006</td>\n",
       "      <td>1.892490</td>\n",
       "    </tr>\n",
       "    <tr>\n",
       "      <th>6</th>\n",
       "      <td>1.892490</td>\n",
       "      <td>6.034836e-06</td>\n",
       "      <td>-0.004010</td>\n",
       "      <td>1.893995</td>\n",
       "    </tr>\n",
       "    <tr>\n",
       "      <th>7</th>\n",
       "      <td>1.893995</td>\n",
       "      <td>1.506071e-06</td>\n",
       "      <td>-0.002007</td>\n",
       "      <td>1.894745</td>\n",
       "    </tr>\n",
       "    <tr>\n",
       "      <th>8</th>\n",
       "      <td>1.894745</td>\n",
       "      <td>3.761902e-07</td>\n",
       "      <td>-0.001004</td>\n",
       "      <td>1.895120</td>\n",
       "    </tr>\n",
       "  </tbody>\n",
       "</table>\n",
       "</div>"
      ],
      "text/plain": [
       "         x0         f(x0)    df(x0)  x0 - f(x0)/df(x0)\n",
       "0  1.570796  4.605395e-02 -0.214602           1.785398\n",
       "1  1.785398  7.116978e-03 -0.120293           1.844562\n",
       "2  1.844562  1.638544e-03 -0.062367           1.870834\n",
       "3  1.870834  3.963294e-04 -0.031676           1.883346\n",
       "4  1.883346  9.760117e-05 -0.015955           1.889464\n",
       "5  1.889464  2.422483e-05 -0.008006           1.892490\n",
       "6  1.892490  6.034836e-06 -0.004010           1.893995\n",
       "7  1.893995  1.506071e-06 -0.002007           1.894745\n",
       "8  1.894745  3.761902e-07 -0.001004           1.895120"
      ]
     },
     "execution_count": 4,
     "metadata": {},
     "output_type": "execute_result"
    }
   ],
   "source": [
    "#  Exercicio 6\n",
    "import numpy as np\n",
    "\n",
    "lista_x0 = []\n",
    "lista_fx0 = []\n",
    "lista_dfx0 = []\n",
    "lista_fx0_dfx0 = []\n",
    "\n",
    "#  Usando o metodo de Newton-Raphson\n",
    "def newtonR(f, df, x0, tol):\n",
    "    \n",
    "    #  Colocando na lista para exibição\n",
    "    lista_x0.append(x0)\n",
    "    lista_fx0.append(f(x0)) \n",
    "    lista_dfx0.append(df(x0)) \n",
    "    lista_fx0_dfx0.append(x0 - f(x0)/df(x0))\n",
    "\n",
    "    #  Caso o resultado absoluto da função de x0 for menor que a tolerancia, a raiz é x0\n",
    "    if abs(f(x0)) < tol:\n",
    "        return x0\n",
    "    \n",
    "    #  Caso contrario, chamar novamente a função. Mas dessa vez, no lugar de x0, usar a equação recursiva de Newton-Raphson.\n",
    "    else:\n",
    "        return newtonR(f, df, x0 - f(x0)/df(x0), tol)\n",
    "    \n",
    "    \n",
    "f = lambda x: (np.sin(x) - x / 2)**2\n",
    "f_linha = lambda x: 2*(np.sin(x) - x/2) * (np.cos(x) - 1/2)\n",
    "\n",
    "estimativa = newtonR(f, f_linha, np.pi/2, 1e-6)\n",
    "\n",
    "df = pd.DataFrame({'x0': lista_x0, 'f(x0)': lista_fx0, 'df(x0)': lista_dfx0, 'x0 - f(x0)/df(x0)': lista_fx0_dfx0})\n",
    "\n",
    "print('Resposta: ')\n",
    "print(f\"Aproximação usando o metodo de Newton-Raphson = {estimativa}\")\n",
    "df"
   ]
  },
  {
   "cell_type": "code",
   "execution_count": 5,
   "id": "27b7e692-7138-407f-95d7-76661d39fa82",
   "metadata": {},
   "outputs": [
    {
     "name": "stdout",
     "output_type": "stream",
     "text": [
      "a) Resposta: \n",
      "Aproximação usando o metodo de Newton-Raphson = 1.0000000464611474\n"
     ]
    },
    {
     "data": {
      "text/html": [
       "<div>\n",
       "<style scoped>\n",
       "    .dataframe tbody tr th:only-of-type {\n",
       "        vertical-align: middle;\n",
       "    }\n",
       "\n",
       "    .dataframe tbody tr th {\n",
       "        vertical-align: top;\n",
       "    }\n",
       "\n",
       "    .dataframe thead th {\n",
       "        text-align: right;\n",
       "    }\n",
       "</style>\n",
       "<table border=\"1\" class=\"dataframe\">\n",
       "  <thead>\n",
       "    <tr style=\"text-align: right;\">\n",
       "      <th></th>\n",
       "      <th>x0</th>\n",
       "      <th>f(x0)</th>\n",
       "      <th>df(x0)</th>\n",
       "      <th>x0 - f(x0)/df(x0)</th>\n",
       "    </tr>\n",
       "  </thead>\n",
       "  <tbody>\n",
       "    <tr>\n",
       "      <th>0</th>\n",
       "      <td>0.500000</td>\n",
       "      <td>-7.500000e-01</td>\n",
       "      <td>1.00000</td>\n",
       "      <td>1.250000</td>\n",
       "    </tr>\n",
       "    <tr>\n",
       "      <th>1</th>\n",
       "      <td>1.250000</td>\n",
       "      <td>5.625000e-01</td>\n",
       "      <td>2.50000</td>\n",
       "      <td>1.025000</td>\n",
       "    </tr>\n",
       "    <tr>\n",
       "      <th>2</th>\n",
       "      <td>1.025000</td>\n",
       "      <td>5.062500e-02</td>\n",
       "      <td>2.05000</td>\n",
       "      <td>1.000305</td>\n",
       "    </tr>\n",
       "    <tr>\n",
       "      <th>3</th>\n",
       "      <td>1.000305</td>\n",
       "      <td>6.098490e-04</td>\n",
       "      <td>2.00061</td>\n",
       "      <td>1.000000</td>\n",
       "    </tr>\n",
       "    <tr>\n",
       "      <th>4</th>\n",
       "      <td>1.000000</td>\n",
       "      <td>9.292230e-08</td>\n",
       "      <td>2.00000</td>\n",
       "      <td>1.000000</td>\n",
       "    </tr>\n",
       "  </tbody>\n",
       "</table>\n",
       "</div>"
      ],
      "text/plain": [
       "         x0         f(x0)   df(x0)  x0 - f(x0)/df(x0)\n",
       "0  0.500000 -7.500000e-01  1.00000           1.250000\n",
       "1  1.250000  5.625000e-01  2.50000           1.025000\n",
       "2  1.025000  5.062500e-02  2.05000           1.000305\n",
       "3  1.000305  6.098490e-04  2.00061           1.000000\n",
       "4  1.000000  9.292230e-08  2.00000           1.000000"
      ]
     },
     "execution_count": 5,
     "metadata": {},
     "output_type": "execute_result"
    }
   ],
   "source": [
    "#  Exercicio 7\n",
    "#  a)\n",
    "import numpy as np\n",
    "\n",
    "lista_x0 = []\n",
    "lista_fx0 = []\n",
    "lista_dfx0 = []\n",
    "lista_fx0_dfx0 = []\n",
    "\n",
    "#  Usando o metodo de Newton-Raphson\n",
    "def newtonR(f, df, x0, tol):\n",
    "    \n",
    "    #  Colocando na lista para exibição\n",
    "    lista_x0.append(x0)\n",
    "    lista_fx0.append(f(x0)) \n",
    "    lista_dfx0.append(df(x0))\n",
    "    lista_fx0_dfx0.append(x0 - f(x0)/df(x0))\n",
    "\n",
    "    #  Caso o resultado absoluto da função de x0 for menor que a tolerancia, a raiz é x0\n",
    "    if abs(f(x0)) < tol:\n",
    "        return x0\n",
    "    \n",
    "    #  Caso contrario, chamar novamente a função. Mas dessa vez, no lugar de x0, usar a equação recursiva de Newton-Raphson.\n",
    "    else:\n",
    "        return newtonR(f, df, x0 - f(x0)/df(x0), tol)\n",
    "    \n",
    "    \n",
    "f = lambda x: x**2 - 1\n",
    "f_linha = lambda x: 2*x\n",
    "\n",
    "estimativa = newtonR(f, f_linha, 0.5, 1e-6)\n",
    "\n",
    "df = pd.DataFrame({'x0': lista_x0, 'f(x0)': lista_fx0, 'df(x0)': lista_dfx0, 'x0 - f(x0)/df(x0)': lista_fx0_dfx0})\n",
    "\n",
    "print('a) Resposta: ')\n",
    "print(f\"Aproximação usando o metodo de Newton-Raphson = {estimativa}\")\n",
    "df"
   ]
  },
  {
   "cell_type": "code",
   "execution_count": 6,
   "id": "901c8721-f298-4b5f-9914-cf27733b93fe",
   "metadata": {},
   "outputs": [
    {
     "name": "stdout",
     "output_type": "stream",
     "text": [
      "b) Resposta: \n",
      "Aproximação usando o metodo de Newton-Raphson = 0.9999999254705729\n"
     ]
    },
    {
     "data": {
      "text/html": [
       "<div>\n",
       "<style scoped>\n",
       "    .dataframe tbody tr th:only-of-type {\n",
       "        vertical-align: middle;\n",
       "    }\n",
       "\n",
       "    .dataframe tbody tr th {\n",
       "        vertical-align: top;\n",
       "    }\n",
       "\n",
       "    .dataframe thead th {\n",
       "        text-align: right;\n",
       "    }\n",
       "</style>\n",
       "<table border=\"1\" class=\"dataframe\">\n",
       "  <thead>\n",
       "    <tr style=\"text-align: right;\">\n",
       "      <th></th>\n",
       "      <th>x0</th>\n",
       "      <th>f(x0)</th>\n",
       "      <th>df(x0)</th>\n",
       "      <th>x0 - f(x0)/df(x0)</th>\n",
       "    </tr>\n",
       "  </thead>\n",
       "  <tbody>\n",
       "    <tr>\n",
       "      <th>0</th>\n",
       "      <td>3.000000</td>\n",
       "      <td>8.000000e+00</td>\n",
       "      <td>5.900000</td>\n",
       "      <td>1.644068</td>\n",
       "    </tr>\n",
       "    <tr>\n",
       "      <th>1</th>\n",
       "      <td>1.644068</td>\n",
       "      <td>1.702959e+00</td>\n",
       "      <td>3.188136</td>\n",
       "      <td>1.109913</td>\n",
       "    </tr>\n",
       "    <tr>\n",
       "      <th>2</th>\n",
       "      <td>1.109913</td>\n",
       "      <td>2.319062e-01</td>\n",
       "      <td>2.119825</td>\n",
       "      <td>1.000514</td>\n",
       "    </tr>\n",
       "    <tr>\n",
       "      <th>3</th>\n",
       "      <td>1.000514</td>\n",
       "      <td>1.028207e-03</td>\n",
       "      <td>1.901028</td>\n",
       "      <td>0.999973</td>\n",
       "    </tr>\n",
       "    <tr>\n",
       "      <th>4</th>\n",
       "      <td>0.999973</td>\n",
       "      <td>-5.379437e-05</td>\n",
       "      <td>1.899946</td>\n",
       "      <td>1.000001</td>\n",
       "    </tr>\n",
       "    <tr>\n",
       "      <th>5</th>\n",
       "      <td>1.000001</td>\n",
       "      <td>2.832165e-06</td>\n",
       "      <td>1.900003</td>\n",
       "      <td>1.000000</td>\n",
       "    </tr>\n",
       "    <tr>\n",
       "      <th>6</th>\n",
       "      <td>1.000000</td>\n",
       "      <td>-1.490588e-07</td>\n",
       "      <td>1.900000</td>\n",
       "      <td>1.000000</td>\n",
       "    </tr>\n",
       "  </tbody>\n",
       "</table>\n",
       "</div>"
      ],
      "text/plain": [
       "         x0         f(x0)    df(x0)  x0 - f(x0)/df(x0)\n",
       "0  3.000000  8.000000e+00  5.900000           1.644068\n",
       "1  1.644068  1.702959e+00  3.188136           1.109913\n",
       "2  1.109913  2.319062e-01  2.119825           1.000514\n",
       "3  1.000514  1.028207e-03  1.901028           0.999973\n",
       "4  0.999973 -5.379437e-05  1.899946           1.000001\n",
       "5  1.000001  2.832165e-06  1.900003           1.000000\n",
       "6  1.000000 -1.490588e-07  1.900000           1.000000"
      ]
     },
     "execution_count": 6,
     "metadata": {},
     "output_type": "execute_result"
    }
   ],
   "source": [
    "#  Exercicio 7\n",
    "#  b)\n",
    "import numpy as np\n",
    "\n",
    "lista_x0 = []\n",
    "lista_fx0 = []\n",
    "lista_dfx0 = []\n",
    "lista_fx0_dfx0 = []\n",
    "\n",
    "#  Usando o metodo de Newton-Raphson\n",
    "def newtonR(f, df, x0, tol):\n",
    "    \n",
    "    #  Colocando na lista para exibição\n",
    "    lista_x0.append(x0)\n",
    "    lista_fx0.append(f(x0)) \n",
    "    lista_dfx0.append(df(x0))\n",
    "    lista_fx0_dfx0.append(x0 - f(x0)/df(x0))\n",
    "\n",
    "    #  Caso o resultado absoluto da função de x0 for menor que a tolerancia, a raiz é x0\n",
    "    if abs(f(x0)) < tol:\n",
    "        return x0\n",
    "    \n",
    "    #  Caso contrario, chamar novamente a função. Mas dessa vez, no lugar de x0, usar a equação recursiva de Newton-Raphson.\n",
    "    else:\n",
    "        return newtonR(f, df, x0 - f(x0)/df(x0), tol)\n",
    "    \n",
    "    \n",
    "f = lambda x: x**2 - 1\n",
    "f_linha = lambda x: 2*x - 0.1\n",
    "\n",
    "estimativa = newtonR(f, f_linha, 3, 1e-6)\n",
    "\n",
    "df = pd.DataFrame({'x0': lista_x0, 'f(x0)': lista_fx0, 'df(x0)': lista_dfx0, 'x0 - f(x0)/df(x0)': lista_fx0_dfx0})\n",
    "\n",
    "print('b) Resposta: ')\n",
    "print(f\"Aproximação usando o metodo de Newton-Raphson = {estimativa}\")\n",
    "df"
   ]
  },
  {
   "cell_type": "code",
   "execution_count": 7,
   "id": "2f7ae465-0aea-44d2-a9ac-73957faa59a9",
   "metadata": {},
   "outputs": [
    {
     "name": "stdout",
     "output_type": "stream",
     "text": [
      "c) Resposta x0 = 2: \n",
      "Aproximação usando o metodo de Newton-Raphson = 1.0000000464611474\n"
     ]
    },
    {
     "data": {
      "text/html": [
       "<div>\n",
       "<style scoped>\n",
       "    .dataframe tbody tr th:only-of-type {\n",
       "        vertical-align: middle;\n",
       "    }\n",
       "\n",
       "    .dataframe tbody tr th {\n",
       "        vertical-align: top;\n",
       "    }\n",
       "\n",
       "    .dataframe thead th {\n",
       "        text-align: right;\n",
       "    }\n",
       "</style>\n",
       "<table border=\"1\" class=\"dataframe\">\n",
       "  <thead>\n",
       "    <tr style=\"text-align: right;\">\n",
       "      <th></th>\n",
       "      <th>x0</th>\n",
       "      <th>f(x0)</th>\n",
       "      <th>df(x0)</th>\n",
       "      <th>x0 - f(x0)/df(x0)</th>\n",
       "    </tr>\n",
       "  </thead>\n",
       "  <tbody>\n",
       "    <tr>\n",
       "      <th>0</th>\n",
       "      <td>2.000000</td>\n",
       "      <td>3.000000e+00</td>\n",
       "      <td>4.00000</td>\n",
       "      <td>1.250000</td>\n",
       "    </tr>\n",
       "    <tr>\n",
       "      <th>1</th>\n",
       "      <td>1.250000</td>\n",
       "      <td>5.625000e-01</td>\n",
       "      <td>2.50000</td>\n",
       "      <td>1.025000</td>\n",
       "    </tr>\n",
       "    <tr>\n",
       "      <th>2</th>\n",
       "      <td>1.025000</td>\n",
       "      <td>5.062500e-02</td>\n",
       "      <td>2.05000</td>\n",
       "      <td>1.000305</td>\n",
       "    </tr>\n",
       "    <tr>\n",
       "      <th>3</th>\n",
       "      <td>1.000305</td>\n",
       "      <td>6.098490e-04</td>\n",
       "      <td>2.00061</td>\n",
       "      <td>1.000000</td>\n",
       "    </tr>\n",
       "    <tr>\n",
       "      <th>4</th>\n",
       "      <td>1.000000</td>\n",
       "      <td>9.292230e-08</td>\n",
       "      <td>2.00000</td>\n",
       "      <td>1.000000</td>\n",
       "    </tr>\n",
       "  </tbody>\n",
       "</table>\n",
       "</div>"
      ],
      "text/plain": [
       "         x0         f(x0)   df(x0)  x0 - f(x0)/df(x0)\n",
       "0  2.000000  3.000000e+00  4.00000           1.250000\n",
       "1  1.250000  5.625000e-01  2.50000           1.025000\n",
       "2  1.025000  5.062500e-02  2.05000           1.000305\n",
       "3  1.000305  6.098490e-04  2.00061           1.000000\n",
       "4  1.000000  9.292230e-08  2.00000           1.000000"
      ]
     },
     "metadata": {},
     "output_type": "display_data"
    },
    {
     "name": "stdout",
     "output_type": "stream",
     "text": [
      "----- \n",
      " \n",
      "c) Resposta x0 = -2: \n",
      "Aproximação usando o metodo de Newton-Raphson = -1.0000000464611474\n"
     ]
    },
    {
     "data": {
      "text/html": [
       "<div>\n",
       "<style scoped>\n",
       "    .dataframe tbody tr th:only-of-type {\n",
       "        vertical-align: middle;\n",
       "    }\n",
       "\n",
       "    .dataframe tbody tr th {\n",
       "        vertical-align: top;\n",
       "    }\n",
       "\n",
       "    .dataframe thead th {\n",
       "        text-align: right;\n",
       "    }\n",
       "</style>\n",
       "<table border=\"1\" class=\"dataframe\">\n",
       "  <thead>\n",
       "    <tr style=\"text-align: right;\">\n",
       "      <th></th>\n",
       "      <th>x0</th>\n",
       "      <th>f(x0)</th>\n",
       "      <th>df(x0)</th>\n",
       "      <th>x0 - f(x0)/df(x0)</th>\n",
       "    </tr>\n",
       "  </thead>\n",
       "  <tbody>\n",
       "    <tr>\n",
       "      <th>0</th>\n",
       "      <td>-2.000000</td>\n",
       "      <td>3.000000e+00</td>\n",
       "      <td>-4.00000</td>\n",
       "      <td>-1.250000</td>\n",
       "    </tr>\n",
       "    <tr>\n",
       "      <th>1</th>\n",
       "      <td>-1.250000</td>\n",
       "      <td>5.625000e-01</td>\n",
       "      <td>-2.50000</td>\n",
       "      <td>-1.025000</td>\n",
       "    </tr>\n",
       "    <tr>\n",
       "      <th>2</th>\n",
       "      <td>-1.025000</td>\n",
       "      <td>5.062500e-02</td>\n",
       "      <td>-2.05000</td>\n",
       "      <td>-1.000305</td>\n",
       "    </tr>\n",
       "    <tr>\n",
       "      <th>3</th>\n",
       "      <td>-1.000305</td>\n",
       "      <td>6.098490e-04</td>\n",
       "      <td>-2.00061</td>\n",
       "      <td>-1.000000</td>\n",
       "    </tr>\n",
       "    <tr>\n",
       "      <th>4</th>\n",
       "      <td>-1.000000</td>\n",
       "      <td>9.292230e-08</td>\n",
       "      <td>-2.00000</td>\n",
       "      <td>-1.000000</td>\n",
       "    </tr>\n",
       "  </tbody>\n",
       "</table>\n",
       "</div>"
      ],
      "text/plain": [
       "         x0         f(x0)   df(x0)  x0 - f(x0)/df(x0)\n",
       "0 -2.000000  3.000000e+00 -4.00000          -1.250000\n",
       "1 -1.250000  5.625000e-01 -2.50000          -1.025000\n",
       "2 -1.025000  5.062500e-02 -2.05000          -1.000305\n",
       "3 -1.000305  6.098490e-04 -2.00061          -1.000000\n",
       "4 -1.000000  9.292230e-08 -2.00000          -1.000000"
      ]
     },
     "metadata": {},
     "output_type": "display_data"
    }
   ],
   "source": [
    "#  Exercicio 7\n",
    "#  c)\n",
    "import numpy as np\n",
    "\n",
    "#  Usando o metodo de Newton-Raphson\n",
    "def newtonR(f, df, x0, tol):\n",
    "    \n",
    "    #  Colocando na lista para exibição\n",
    "    lista_x0.append(x0)\n",
    "    lista_fx0.append(f(x0)) \n",
    "    lista_dfx0.append(df(x0))\n",
    "    lista_fx0_dfx0.append(x0 - f(x0)/df(x0))\n",
    "\n",
    "    #  Caso o resultado absoluto da função de x0 for menor que a tolerancia, a raiz é x0\n",
    "    if abs(f(x0)) < tol:\n",
    "        return x0\n",
    "    \n",
    "    #  Caso contrario, chamar novamente a função. Mas dessa vez, no lugar de x0, usar a equação recursiva de Newton-Raphson.\n",
    "    else:\n",
    "        return newtonR(f, df, x0 - f(x0)/df(x0), tol)\n",
    "    \n",
    "lista_x0 = []\n",
    "lista_fx0 = []\n",
    "lista_dfx0 = []\n",
    "lista_fx0_dfx0 = []\n",
    "    \n",
    "f = lambda x: x**2 - 1\n",
    "f_linha = lambda x: 2*x\n",
    "\n",
    "estimativa = newtonR(f, f_linha, 2, 1e-6)\n",
    "\n",
    "df = pd.DataFrame({'x0': lista_x0, 'f(x0)': lista_fx0, 'df(x0)': lista_dfx0, 'x0 - f(x0)/df(x0)': lista_fx0_dfx0})\n",
    "\n",
    "print('c) Resposta x0 = 2: ')\n",
    "print(f\"Aproximação usando o metodo de Newton-Raphson = {estimativa}\")\n",
    "display(df)\n",
    "print('----- \\n ')\n",
    "\n",
    "lista_x0 = []\n",
    "lista_fx0 = []\n",
    "lista_dfx0 = []\n",
    "lista_fx0_dfx0 = []\n",
    "    \n",
    "f = lambda x: x**2 - 1\n",
    "f_linha = lambda x: 2*x\n",
    "\n",
    "estimativa = newtonR(f, f_linha, -2, 1e-6)\n",
    "\n",
    "df = pd.DataFrame({'x0': lista_x0, 'f(x0)': lista_fx0, 'df(x0)': lista_dfx0, 'x0 - f(x0)/df(x0)': lista_fx0_dfx0})\n",
    "\n",
    "print('c) Resposta x0 = -2: ')\n",
    "print(f\"Aproximação usando o metodo de Newton-Raphson = {estimativa}\")\n",
    "display(df)"
   ]
  },
  {
   "cell_type": "code",
   "execution_count": 8,
   "id": "bdb60be8-5ddb-4605-8d44-7d1ec421f48d",
   "metadata": {},
   "outputs": [
    {
     "name": "stdout",
     "output_type": "stream",
     "text": [
      "Matriz Inicial: \n",
      " [[ 1.      0.78    0.6084]\n",
      " [ 1.      1.56    2.4336]\n",
      " [ 1.      2.34    5.4756]\n",
      " [ 1.      3.12    9.7344]\n",
      " [ 1.      3.81   14.5161]]\n",
      "Coeficientes: \n",
      " [[ 5.02214761]\n",
      " [-4.01426024]\n",
      " [ 1.0023414 ]]\n"
     ]
    },
    {
     "data": {
      "image/png": "[encoded data removed]",
      "text/plain": [
       "<Figure size 800x600 with 1 Axes>"
      ]
     },
     "metadata": {},
     "output_type": "display_data"
    }
   ],
   "source": [
    "# Exercicio 14\n",
    "import numpy as np\n",
    "from scipy import optimize\n",
    "import matplotlib.pyplot as plt\n",
    "plt.style.use(\"seaborn-darkgrid\")\n",
    "\n",
    "#  Declarando X e Y\n",
    "x = np.array([0.78, 1.56, 2.34, 3.12, 3.81])\n",
    "x_2 = x**2\n",
    "y = np.array([2.50, 1.20, 1.12, 2.25, 4.28])\n",
    "\n",
    "#  Arrumando a Matriz\n",
    "#  Primeira coluna com 1 (a = 1) \n",
    "A = np.vstack([np.ones(len(x)), x, x_2]).T\n",
    "print(\"Matriz Inicial: \\n\", A)\n",
    "\n",
    "#  Transformando Y em uma coluna.\n",
    "y = y[:, np.newaxis]\n",
    "\n",
    "#  Aplicando o método de mínimos quadrados\n",
    "alpha = np.dot((np.dot(np.linalg.inv(np.dot(A.T,A)),A.T)),y)\n",
    "\n",
    "#  Coeficientes\n",
    "print(\"Coeficientes: \\n\", alpha)\n",
    "\n",
    "#  Plotando os resultados.\n",
    "plt.figure(figsize = (8,6))\n",
    "plt.plot(x, y, \"b.\")\n",
    "plt.plot(x, alpha[0] + alpha[1]*x + alpha[2]*x**2, \"r\")\n",
    "plt.xlabel(\"x\")\n",
    "plt.ylabel(\"y\")\n",
    "plt.show()"
   ]
  },
  {
   "cell_type": "code",
   "execution_count": null,
   "id": "3d26530a-4707-4527-b9dd-47b4d22b4b88",
   "metadata": {},
   "outputs": [],
   "source": []
  },
  {
   "cell_type": "code",
   "execution_count": 9,
   "id": "62b41207-dc48-4ed0-82a8-7a178374221e",
   "metadata": {},
   "outputs": [
    {
     "name": "stdout",
     "output_type": "stream",
     "text": [
      "Matriz Inicial: \n",
      " [[1.         0.25527251]\n",
      " [1.         0.43136376]\n",
      " [1.         0.60205999]\n",
      " [1.         0.84509804]\n",
      " [1.         1.14612804]\n",
      " [1.         1.41497335]]\n",
      "Coeficientes: \n",
      " [ 2.66043539 -1.04858709]\n"
     ]
    },
    {
     "data": {
      "image/png": "[encoded data removed]",
      "text/plain": [
       "<Figure size 800x600 with 1 Axes>"
      ]
     },
     "metadata": {},
     "output_type": "display_data"
    }
   ],
   "source": [
    "# Exercicio 15\n",
    "import numpy as np\n",
    "from scipy import optimize\n",
    "import matplotlib.pyplot as plt\n",
    "plt.style.use(\"seaborn-darkgrid\")\n",
    "\n",
    "#  Declarando X e Y\n",
    "x = np.array([1.8, 2.7, 4, 7, 14, 26])\n",
    "y = np.array([250, 163, 103, 60, 29, 15])\n",
    "\n",
    "#  Calculando LOG X e Y\n",
    "log10_x = np.log10(x)\n",
    "log10_y = np.log10(y)\n",
    "\n",
    "#  Arrumando a Matriz\n",
    "#  Primeira coluna com 1 (a = 1) \n",
    "A = np.vstack([np.ones(len(x)), log10_x]).T\n",
    "print(\"Matriz Inicial: \\n\", A)\n",
    "\n",
    "#  Transformando Y em uma coluna.\n",
    "y = y[:, np.newaxis]\n",
    "\n",
    "#  Aplicando o método de mínimos quadrados, usando LOG Y\n",
    "alpha = np.dot((np.dot(np.linalg.inv(np.dot(A.T,A)),A.T)),log10_y)\n",
    "\n",
    "#  Coeficientes\n",
    "print(\"Coeficientes: \\n\", alpha)\n",
    "\n",
    "#  Plotando os resultados.\n",
    "plt.figure(figsize = (8,6))\n",
    "plt.plot(x, y, \"b.\")\n",
    "plt.plot(x, 10**alpha[0] * x ** alpha[1], \"r\")\n",
    "plt.xlabel(\"x\")\n",
    "plt.ylabel(\"y\")\n",
    "plt.show()"
   ]
  },
  {
   "cell_type": "code",
   "execution_count": 10,
   "id": "f6fda465-f4ce-47b0-8245-4bc093a614fb",
   "metadata": {},
   "outputs": [
    {
     "data": {
      "text/plain": [
       "array([0.25527251])"
      ]
     },
     "execution_count": 10,
     "metadata": {},
     "output_type": "execute_result"
    }
   ],
   "source": [
    "np.log10([1.8])"
   ]
  },
  {
   "cell_type": "code",
   "execution_count": 14,
   "id": "31703856-b242-4a88-8c6b-501f7d36aa12",
   "metadata": {},
   "outputs": [
    {
     "name": "stderr",
     "output_type": "stream",
     "text": [
      "C:\\ProgramData\\Anaconda3\\lib\\site-packages\\IPython\\core\\interactiveshell.py:3457: RankWarning: Polyfit may be poorly conditioned\n",
      "  exec(code_obj, self.user_global_ns, self.user_ns)\n"
     ]
    },
    {
     "data": {
      "image/png": "[encoded data removed]",
      "text/plain": [
       "<Figure size 1200x800 with 6 Axes>"
      ]
     },
     "metadata": {},
     "output_type": "display_data"
    }
   ],
   "source": [
    "x_d = np.array([1.8, 2.7, 4, 7, 14, 26])\n",
    "y_d = np.array([250, 163, 103, 60, 29, 15])\n",
    "\n",
    "plt.figure(figsize = (12, 8))\n",
    "for i in range(1, 7):\n",
    "    y_est = np.polyfit(x_d, y_d, i)\n",
    "    plt.subplot(2,3,i)\n",
    "    plt.plot(x_d, y_d, \"o\")\n",
    "    \n",
    "    plt.plot(x_d, np.polyval(y_est, x_d))\n",
    "    plt.title(f\"Polinômio de ordem {i}\")\n",
    "    \n",
    "plt.tight_layout()\n",
    "plt.show()"
   ]
  },
  {
   "cell_type": "raw",
   "id": "32a4309b-0dee-4581-a8e3-7341dc98feb7",
   "metadata": {},
   "source": [
    "import numpy as np\n",
    "from scipy import optimize\n",
    "import matplotlib.pyplot as plt\n",
    "plt.style.use(\"seaborn-poster\")\n",
    "\n",
    "x = np.array([0.78, 1.56, 2.34, 3.12, 3.81])\n",
    "y = np.array([2.50, 1.20, 1.12, 2.25, 4.28])\n",
    "\n",
    "plt.figure(figsize = (10,8))\n",
    "plt.plot(x, y, \"b.\")\n",
    "plt.xlabel(\"x\")\n",
    "plt.ylabel(\"y\")\n",
    "plt.show()\n",
    "\n",
    "A = np.vstack([x, np.ones(len(x))]).T\n",
    "beta, log_alpha = np.linalg.lstsq(A, np.log(y), rcond = None)[0]\n",
    "alpha = np.exp(log_alpha)\n",
    "print(f\"alpha={alpha}, beta={beta}\")\n",
    "\n",
    "plt.figure(figsize = (10,8))\n",
    "plt.plot(x, y, \"b.\")\n",
    "plt.plot(x, alpha*np.exp(beta*x), \"r\")\n",
    "plt.xlabel(\"x\")\n",
    "plt.ylabel(\"y\")\n",
    "plt.show()"
   ]
  },
  {
   "cell_type": "raw",
   "id": "525b1e9c-e276-4a7a-a1d8-9d7cb159a11d",
   "metadata": {},
   "source": [
    "1ª Questão: Considere a distribuição de 300 estudantes segundo sexo e área de concentração em uma escola como na tabela 1. Um estudante é escolhido ao acaso. Determine:\n",
    "\n",
    "   a) a probabilidade de que seja do sexo feminino e da área de humanas\n",
    "    \n",
    "   b) a probabilidade de que seja do sexo masculino e não seja da área de biológicas\n",
    "    \n",
    "   c) a probabilidade de que seja do sexo feminino dado que é da área de humanas"
   ]
  },
  {
   "cell_type": "raw",
   "id": "6de24b0c-5d0e-45ca-a5e3-cfb032b6049b",
   "metadata": {},
   "source": [
    "Resolução:"
   ]
  },
  {
   "cell_type": "raw",
   "id": "135a5564-54af-4054-97e1-9db07ace989c",
   "metadata": {},
   "source": [
    "a)\n",
    "$$ P(F \\cap H) = P(F \\mid H)\\cdot P(H) = \\frac{80}{138} \\cdot \\frac{138}{300} = \\frac{4}{15} \\approx 26.66\\% $$\n",
    "\n",
    "b) \n",
    "$$ P(M \\cap B^c) = P(M \\mid B^c)\\cdot P(B^c) = \\frac{98}{210}\\cdot \\frac{210}{300} = \\frac{98}{300} \\approx 32.66\\% $$\n",
    "\n",
    "c)\n",
    "$$ P(F) = \\frac{80}{138} \\approx 57.97\\% $$\n"
   ]
  },
  {
   "cell_type": "raw",
   "id": "813fd4ba-67a0-49e6-aad1-00154005971d",
   "metadata": {},
   "source": [
    "from fractions import Fraction\n",
    "\n",
    "# a)\n",
    "P_F_H = (Fraction(80,138) * Fraction(138,300))\n",
    "print(f'a) {P_F_H} ou {float(P_F_H):.2%}')\n",
    "\n",
    "# b)\n",
    "P_M_Bc = (Fraction(98,210) * Fraction(210,300))\n",
    "print(f'b) {P_M_Bc} ou {float(P_M_Bc):.2%}')\n",
    "\n",
    "# c)\n",
    "P_F = (Fraction(80,138))\n",
    "print(f'c) {P_F} ou {float(P_F):.2%}')"
   ]
  },
  {
   "cell_type": "raw",
   "id": "826b2143-3d3e-48dc-a771-5f2a6cd4ec71",
   "metadata": {},
   "source": [
    "---"
   ]
  },
  {
   "cell_type": "raw",
   "id": "3b04c399-9b33-40e5-8f35-7efdd333d1e0",
   "metadata": {},
   "source": [
    "2ª Questão: Um aluno responde a um teste de múltipla escolha com 4 alternativas e apenas 1 correta. A probabilidade de que ele saiba a resposta correta de uma questão é de 30%. Se ele não sabe existe a possibilidade de acertar no chute (não existe a possibilidade de cola). Se ele acertou uma determinada questão, qual é a probabilidade de ele realmente saber a resposta correta?"
   ]
  },
  {
   "cell_type": "raw",
   "id": "b3eca78c-e0b8-4ecc-8fe3-e176d21b2c5b",
   "metadata": {},
   "source": [
    "Resolução:"
   ]
  },
  {
   "cell_type": "raw",
   "id": "ec7a0687-2ddc-428d-bc50-51e5b66d705a",
   "metadata": {},
   "source": [
    "$$ P(S \\mid A) = \\frac{P(S \\cap A)}{P(A)} = \\frac{0.3}{0.3\\cdot1 + 0.70\\cdot0.25} \\approx 63.16\\% $$"
   ]
  },
  {
   "cell_type": "raw",
   "id": "b1b59262-2d89-42e2-8a8f-29f6ac4b9752",
   "metadata": {},
   "source": [
    "def teoremaBayes(pA, pB, pBA):\n",
    "    return pA * pBA / pB\n",
    "\n",
    "#  Questão Correta\n",
    "q = 1/4\n",
    "\n",
    "#  P(Saber a questão)\n",
    "pA = 0.30\n",
    "\n",
    "#  P(Saber e acertar) + P(Acertar no Chute)\n",
    "pB = (0.30 * 1) + (0.70 * q)\n",
    "\n",
    "#  P(Acertar e Saber)\n",
    "#  Se ele sabe, vai acertar a questão.\n",
    "pBA = 1 \n",
    "\n",
    "print(f'Resposta: {teoremaBayes(pA, pB, pBA):.2%}') "
   ]
  },
  {
   "cell_type": "raw",
   "id": "7d4c3cdf-73b1-4ed1-a490-8b695ebdbfba",
   "metadata": {},
   "source": [
    "---"
   ]
  },
  {
   "cell_type": "raw",
   "id": "8d486255-d2a6-4e02-bbac-428c8316c346",
   "metadata": {},
   "source": [
    "3ª Questão: Urna 1 contém 8 bolas pretas e 2 brancas, urna 2 contém 4 pretas e 5 brancas, e urna 3 contém 7 pretas e 2 brancas. Passa-se uma bola da urna 1 para a urna 2, e depois passa-se uma bola da urna 2 para a urna 3. A seguir retiram-se 2 bolas da urna 3, com reposição. Qual é a probabilidade de que essas 2 bolas sejam brancas?"
   ]
  },
  {
   "cell_type": "raw",
   "id": "9c0ac7de-5a2f-4fc2-b454-d27af07a2eb5",
   "metadata": {},
   "source": [
    "Resolução:"
   ]
  },
  {
   "cell_type": "raw",
   "id": "6f491b94-f45a-474a-a422-e857672963a9",
   "metadata": {},
   "source": [
    "$$ P(1) = \\frac{3}{10} \\cdot \\frac{3}{10} \\cdot 0.6 \\cdot 0.2 = 1.08 \\% $$\n",
    "$$ P(2) = \\frac{2}{10} \\cdot \\frac{2}{10} \\cdot 0.4 \\cdot 0.2 = 0.32 \\% $$\n",
    "$$ P(3) = \\frac{3}{10} \\cdot \\frac{3}{10} \\cdot 0.5 \\cdot 0.8 = 3.60 \\% $$\n",
    "$$ P(4) =\\frac{2}{10} \\cdot \\frac{2}{10} \\cdot 0.5 \\cdot 0.8 = 1.60 \\% $$\n",
    "\n",
    "$$ \\sum =  6.60 \\% $$"
   ]
  },
  {
   "cell_type": "raw",
   "id": "61cedbe1-45dd-4cf2-ab87-bc034cb940fb",
   "metadata": {},
   "source": [
    "from fractions import Fraction\n",
    "\n",
    "P_1 = (Fraction(3,10) * Fraction(3,10) * Fraction(6,10) * Fraction(2,10))\n",
    "print(f'{float(P_1):.2%}')\n",
    "P_2 = (Fraction(2,10) * Fraction(2,10) * Fraction(4,10) * Fraction(2,10))\n",
    "print(f'{float(P_2):.2%}')\n",
    "P_3 = (Fraction(3,10) * Fraction(3,10) * Fraction(5,10) * Fraction(8,10))\n",
    "print(f'{float(P_3):.2%}')\n",
    "P_4 = (Fraction(2,10) * Fraction(2,10) * Fraction(5,10) * Fraction(8,10))\n",
    "print(f'{float(P_4):.2%}')\n",
    "\n",
    "print(f'a) Soma das Probabilidades: {float(P_1 + P_2 + P_3 + P_4):.2%}')"
   ]
  },
  {
   "cell_type": "raw",
   "id": "c3ed8121-0e12-4ebb-a32d-e6cfcded39e2",
   "metadata": {},
   "source": [
    "---"
   ]
  },
  {
   "cell_type": "raw",
   "id": "c7fe8fb6-10cb-4cb7-a68e-dda7c9e1d114",
   "metadata": {},
   "source": [
    "4ª Questão: Uma companhia produz circuitos integrados em três fábricas, I, II e III. A fábrica\n",
    "I produz 40% dos circuitos, enquanto a II e III produzem 30% cada uma. As probabilidades\n",
    "de que um circuito integrado produzido por estas fábricas não funcione são p, 0; 05 e 0; 04,\n",
    "respectivamente"
   ]
  },
  {
   "cell_type": "raw",
   "id": "4868e6c8-1b64-41a0-a635-70b6714ab78b",
   "metadata": {},
   "source": [
    "a) Determine p de modo que um circuito escolhido aleatoriamente da produção conjunta das\n",
    "três fábricas tenha probabilidade de não funcionar igual a 3,5%? R: Probabilidade de falha na fabrica 1: 2.00%\n",
    "\n",
    "\n",
    "b) Dado que o circuito escolhido funciona, qual é a probabilidade de que tenha vindo da\n",
    "fábrica III (considere p como obtido no item a))?"
   ]
  },
  {
   "cell_type": "raw",
   "id": "7cf2d511-0b10-43c9-a0af-fe6400d4f18c",
   "metadata": {},
   "source": [
    "**Respostas:**\n",
    "\n",
    "a) Probabilidade de falha na fabrica 1: 2.00%\n",
    "\n",
    "b) Probabilidade do circuito ter vindo da fabrica 3, dado que funciona: 29.84%"
   ]
  },
  {
   "cell_type": "raw",
   "id": "812f116d-0a61-40e0-880d-12fc0a64bb62",
   "metadata": {},
   "source": [
    "Resolução:"
   ]
  },
  {
   "cell_type": "raw",
   "id": "3be06ca5-9606-4927-9e97-d337d89479e7",
   "metadata": {},
   "source": [
    "#  4ª Questão: \n",
    "#  a)\n",
    "from sympy import Eq, solve, symbols\n",
    "from sympy.abc import p\n",
    "\n",
    "#  Probabilidades do circuito pertencer a fábrica\n",
    "P_F1 = 0.40\n",
    "P_F2 = 0.30\n",
    "P_F3 = 0.30\n",
    "\n",
    "#  Probabilidade de falha dado a fabrica\n",
    "P_R_F1 = ''\n",
    "P_R_F2 = 0.05\n",
    "P_R_F3 = 0.04\n",
    "\n",
    "#  Probabilidade de não funcionar\n",
    "P_R = 0.035\n",
    "\n",
    "eqn = Eq(p * P_F1 + P_R_F2 * P_F2 + P_R_F3 * P_F3, P_R)\n",
    "p = solve(eqn, p)\n",
    "P_R_F1 = p[0]\n",
    "print(f'a) Probabilidade de falha na fabrica 1: {float(P_R_F1):.2%}')"
   ]
  },
  {
   "cell_type": "raw",
   "id": "3bf5e61b-1e63-4645-a185-dd17d6316984",
   "metadata": {},
   "source": [
    "#  4ª Questão: \n",
    "#  b)\n",
    "\n",
    "#  P(F3|B) = P(B|F3) * P(F3) / P(B)\n",
    "#  O problema dá a probabilidade de falha, então, subtraimos 1 para considerar a possibilidade de sucesso.\n",
    "P_F3_B = (P_F3 * (1-P_R_F3)) / ((P_F1 * (1-P_R_F1)) + (P_F2 * (1-P_R_F2)) + (P_F3 * (1-P_R_F3)))\n",
    "\n",
    "print(f'b) Probabilidade do circuito ter vindo da fabrica 3, dado que funciona: {float(P_F3_B):.2%}')"
   ]
  },
  {
   "cell_type": "raw",
   "id": "31c0017c-6df7-4fbe-832f-6f4fd3cd5e75",
   "metadata": {},
   "source": [
    "---"
   ]
  },
  {
   "cell_type": "raw",
   "id": "1535dbc3-f15f-4c5f-9506-d571fcc1319a",
   "metadata": {},
   "source": [
    "5ª Questão: Uma pessoa tem 2 moedas uma justa e outra falsa, com cara nos dois lados. Ele escolhe uma aleatoriamente."
   ]
  },
  {
   "cell_type": "raw",
   "id": "90e48508-f85b-4677-9849-1674d6618c92",
   "metadata": {},
   "source": [
    "a) Ele joga a moeda e o resultado é cara; qual é a probabilidade de que ele tenha escolhido a moeda justa?\n",
    "\n",
    "b) Ele joga novamente a moeda, e novamente sai cara; qual é a probabilidade de que ele tenha escolhido a moeda justa?\n",
    "\n",
    "c) Ele joga mais uma vez a moeda, e desta vez sai coroa; qual é a probabilidade de que ele tenha escolhido a moeda justa"
   ]
  },
  {
   "cell_type": "raw",
   "id": "7f37ce7a-a6f7-4094-9cdd-76ac26d3fd87",
   "metadata": {},
   "source": [
    "**Respostas:**\n",
    "\n",
    "a) Probabilidade de ser a moeda justa, dado que saiu cara: 33.33%\n",
    "\n",
    "b) Probabilidade de ser a moeda justa, tirando cara duas vezes: 20.00%\n",
    "\n",
    "c) A moeda só pode ser Justa, dado que a probabilidade da moeda falsa dar cara é igual a Zero."
   ]
  },
  {
   "cell_type": "raw",
   "id": "6d9e1159-5355-4aff-a2d1-9a1fcf308eff",
   "metadata": {},
   "source": [
    "Resolução:"
   ]
  },
  {
   "cell_type": "raw",
   "id": "15717671-4461-4762-a018-9df6d07a5c40",
   "metadata": {},
   "source": [
    "#  5ª Questão: \n",
    "#  a)\n",
    "\n",
    "#  Probabilidade Moeda Justa\n",
    "P_MJ = 0.5\n",
    "\n",
    "#  Probabilidade Moeda Falsa\n",
    "P_MF = 0.5\n",
    "\n",
    "#  Probabilidade de dar cara dado Moeda Justa \n",
    "P_C_MJ = 0.5\n",
    "\n",
    "#  Probabilidade de dar cara dado Moeda Falsa \n",
    "P_C_MF = 1\n",
    "\n",
    "#  P(MJ|C)\n",
    "P_MJ_C = (P_MJ * P_C_MJ) / ((P_MJ * P_C_MJ) + (P_MF * P_C_MF))\n",
    "print(f'a) Probabilidade de ser a moeda justa, dado que saiu cara: {float(P_MJ_C):.2%}')"
   ]
  },
  {
   "cell_type": "raw",
   "id": "3264885e-01ad-4d0b-8346-45fd47c63653",
   "metadata": {},
   "source": [
    "#  5ª Questão: \n",
    "#  b)\n",
    "\n",
    "#  Probabilidade Cara - Cara, Moeda Falsa\n",
    "P_C_C_MF = P_MF * P_C_MF * P_C_MF           # 0.5\n",
    "\n",
    "#  Probabilidade Cara - Cara, Moeda Justa\n",
    "P_C_C_MJ = P_MJ * P_C_MJ * P_C_MJ           # 0.125\n",
    "\n",
    "#  Probabilidade Cara - Coroa, Moeda Justa\n",
    "P_C_K_MJ = P_MJ * P_C_MJ * (1-P_C_MJ)       # 0.125\n",
    "\n",
    "#  Probabilidade Coroa - Cara, Moeda Justa\n",
    "P_K_C_MJ = P_MJ * (1-P_C_MJ) * P_C_MJ       # 0.125\n",
    "\n",
    "#  Probabilidade Coroa - Coroa, Moeda Justa\n",
    "P_K_K_MJ = P_MJ * (1-P_C_MJ) * (1-P_C_MJ)   # 0.125\n",
    "\n",
    "#  Probabilidade Coroa - Coroa, dado Moeda Justa\n",
    "#  Evento / Possiveis eventos.\n",
    "P_MJ_C_C = P_C_C_MJ / (P_C_C_MF + P_C_C_MJ)\n",
    "\n",
    "print(f'b) Probabilidade de ser a moeda justa, tirando cara duas vezes: {float(P_MJ_C_C):.2%}')"
   ]
  },
  {
   "cell_type": "raw",
   "id": "e4d3f941-a6e1-42af-9c1d-a1c019ed7809",
   "metadata": {},
   "source": [
    "#  5ª Questão: \n",
    "#  c)\n",
    "print(f'c) A moeda só pode ser Justa, dado que a probabilidade da moeda falsa dar cara é igual a Zero')  "
   ]
  },
  {
   "cell_type": "raw",
   "id": "87f48fba-97a5-4e57-9b12-bb9af3e722d6",
   "metadata": {},
   "source": [
    "---"
   ]
  },
  {
   "cell_type": "raw",
   "id": "f67d07bc-ca1c-4e75-9def-93362397192d",
   "metadata": {},
   "source": [
    "6ª Questão: Uma empresa aérea sabe que 5% das pessoas que fazem reserva não aparecem. Por isto vende 52 assentos para um vôo com 50 lugares. No dia do vôo, qual é a probabilidade de todos os passageiros embarcarem?"
   ]
  },
  {
   "cell_type": "raw",
   "id": "9a56d927-e625-4ff9-a034-b3e7e717bb5d",
   "metadata": {},
   "source": [
    "**Resposta:**\n",
    "\n",
    "Probabilidade de 51 ou mais comparecerem: 74.05%"
   ]
  },
  {
   "cell_type": "raw",
   "id": "cf84c8aa-e3e6-428f-94a0-b8eb38c89824",
   "metadata": {},
   "source": [
    "Resolução:"
   ]
  },
  {
   "cell_type": "raw",
   "id": "3bd285e5-8ce4-48c2-87c9-1e30c031257d",
   "metadata": {},
   "source": [
    "#  6ª Questão:\n",
    "from scipy.stats import binom\n",
    "\n",
    "#  Possibilidade de Comparecer\n",
    "A = 1-0.05\n",
    "\n",
    "#  Possibilidade de não Comparecer\n",
    "q = 0.05\n",
    "\n",
    "#  Numero de vendas\n",
    "N = 52\n",
    "\n",
    "#  Numero de lugares disponiveis\n",
    "K = 50 \n",
    "\n",
    "#  Usando a formula da Distribuição Cumulativa Binomial. \n",
    "P = binom.cdf(K, N, A)\n",
    "\n",
    "print(f'Probabilidade de 51 ou mais comparecerem: {float(P):.2%}')\n",
    "\n",
    "from sympy import *\n",
    "#  Demonstração Matemática\n",
    "\n",
    "# P_51 = (52*0.95**51*0.05**1)\n",
    "P_51 = binomial(52,51)*(A**51)*(q**1)\n",
    "\n",
    "# P_52 = (1*0.95**52*0.05**0)\n",
    "P_52 = binomial(52,52)*(A**52)*(q**0)\n",
    "\n",
    "P = 1 - (P_51 + P_52)\n",
    "print(f'Probabilidade de 51 ou mais comparecerem: {float(P):.2%}')"
   ]
  },
  {
   "cell_type": "raw",
   "id": "4ff01818-1587-4142-b7bc-11fe1d9a2826",
   "metadata": {},
   "source": [
    "---"
   ]
  },
  {
   "cell_type": "raw",
   "id": "f39051e2-af10-4275-a72a-b4ca76d1fceb",
   "metadata": {},
   "source": [
    "7ª Questão:  Suponha que uma ação vale inicialmente S(0) = R$ 12; 00, e que a cada instante possa aumentar de valor em 3% com probabilidade p = 0; 45 ou diminuir de valor em 2% com probabilidade 1 − p = 0; 55."
   ]
  },
  {
   "cell_type": "raw",
   "id": "8246adcb-b849-4f92-bc9f-d443b1268ba1",
   "metadata": {},
   "source": [
    "a) Qual é a probabilidade da ação valer mais que seu valor inicial no instante t = 3.\n",
    "\n",
    "b) Qual é a probabilidade da ação valer mais que R$ 13; 00 no instante t = 15 (se preferir, use a planilha excel para resolver esse item)."
   ]
  },
  {
   "cell_type": "raw",
   "id": "b8a91bb3-8ecc-4d74-bcb7-4bf774ed5699",
   "metadata": {},
   "source": [
    "**Respostas:**\n",
    "\n",
    "a) Probabilidade da ação valer mais que 12.0 no instante 3: 42.52%\n",
    "\n",
    "b) Probabilidade da ação valer mais que 13.0 no instante 15: 34.65%"
   ]
  },
  {
   "cell_type": "raw",
   "id": "4050e7a8-52da-4ee5-beb1-b1531abd694e",
   "metadata": {},
   "source": [
    "Resolução:"
   ]
  },
  {
   "cell_type": "raw",
   "id": "6c8a6b4e-4f2b-44db-ac89-73850335660e",
   "metadata": {},
   "source": [
    "#  7ª Questão:\n",
    "#  a)\n",
    "import numpy as np \n",
    "import pandas as pd\n",
    "from scipy.stats import binom\n",
    "\n",
    "#  Valor Inicial\n",
    "VI = 12.0\n",
    "\n",
    "#  Aumento, probabilidade\n",
    "A, P_A = 0.03, 0.45\n",
    "\n",
    "#  Redução, probabilidade\n",
    "R, P_R = 0.02, 0.55\n",
    "\n",
    "#  Aumento Aumento Aumento\n",
    "P_A_A_A = P_A * P_A * P_A\n",
    "V_A_A_A = VI * (1+A) * (1+A) * (1+A)\n",
    "\n",
    "#  Aumento Aumento Redução\n",
    "P_A_A_R = P_A * P_A * P_R\n",
    "V_A_A_R = VI * (1+A) * (1+A) * (1-R)\n",
    "\n",
    "#  Aumento Redução Aumento\n",
    "P_A_R_A = P_A * P_R * P_A\n",
    "V_A_R_A = VI * (1+A) * (1-R) * (1+A)\n",
    "\n",
    "#  Aumento Redução Redução\n",
    "P_A_R_R = P_A * P_R * P_R\n",
    "V_A_R_R = VI * (1+A) * (1-R) * (1-R)\n",
    "\n",
    "#  Redução Aumento Aumento\n",
    "P_R_A_A = P_R * P_A * P_A\n",
    "V_R_A_A = VI * (1-R) * (1+A) * (1+A)\n",
    "\n",
    "#  Redução Aumento Redução\n",
    "P_R_A_R = P_R * P_A * P_R\n",
    "V_R_A_R = VI * (1-R) * (1+A) * (1-R)\n",
    "\n",
    "#  Redução Redução Aumento\n",
    "P_R_R_A = P_R * P_R * P_A\n",
    "V_R_R_A = VI * (1-R) * (1-R) * (1+A)\n",
    "\n",
    "#  Redução Redução Redução\n",
    "P_R_R_R = P_R * P_R * P_R\n",
    "V_R_R_R = VI * (1-R) * (1-R) * (1-R)\n",
    "\n",
    "lista_prob = [P_A_A_A, P_A_A_R, P_A_R_A, P_A_R_R, P_R_A_A, P_R_A_R, P_R_A_R, P_R_R_R]\n",
    "lista_valor = [V_A_A_A, V_A_A_R, V_A_R_A, V_A_R_R, V_R_A_A, V_R_A_R, V_R_A_R, V_R_R_R]\n",
    "\n",
    "df = pd.DataFrame({'Probabilidade': lista_prob,\n",
    "                   'Valor Instante 3': lista_valor})\n",
    "\n",
    "display(df)\n",
    "\n",
    "p_i_3 = df.loc[df['Valor Instante 3'] >= VI, 'Probabilidade']\n",
    "p_i_3 = p_i_3.sum()\n",
    "\n",
    "print(f'a) Probabilidade da ação valer mais que {VI} no instante 3: {p_i_3:.2%}')\n",
    "#print(sum(lista_prob))\n",
    "#print(sum(lista_valor))\n",
    "#lista_valor"
   ]
  },
  {
   "cell_type": "raw",
   "id": "d68d0c6c-efd6-4378-b55e-ebb107c07c74",
   "metadata": {},
   "source": [
    "#  7ª Questão:\n",
    "#  b)\n",
    "import numpy as np \n",
    "import pandas as pd\n",
    "from scipy.stats import binom\n",
    "\n",
    "#  Taxa de Aumento\n",
    "Tx_A = 1.03\n",
    "\n",
    "#  Taxa de Redução\n",
    "Tx_R = 0.98\n",
    "\n",
    "#  Instante Final\n",
    "IF = 15 \n",
    "\n",
    "#  Criando Data Frame\n",
    "t = np.arange(0,IF+1)\n",
    "df = pd.DataFrame({'Instante': t})\n",
    "\n",
    "df['Preço'] = round(VI * (Tx_A**df['Instante']) * (Tx_R**(IF-df['Instante'])), 2)\n",
    "df['Probabilidade'] = binom.pmf(df['Instante'], IF, P_A)\n",
    "df['Probabilidade Acum'] = binom.cdf(df['Instante'], IF, P_A)\n",
    "display(df)\n",
    "\n",
    "#  Probabilidade de valer mais que 13.0 reais:\n",
    "v_13 = df.loc[df['Preço'] >= 13, 'Probabilidade']\n",
    "v_13 = v_13.sum()\n",
    "\n",
    "print(f'b) Probabilidade da ação valer mais que 13.0 no instante 15: {v_13:.2%}')"
   ]
  },
  {
   "cell_type": "raw",
   "id": "a5791ef7-a305-4dcc-bd5d-4e0e8dcdd4d1",
   "metadata": {},
   "source": [
    "---"
   ]
  },
  {
   "cell_type": "raw",
   "id": "8ff4541a-31e0-4ba8-9f1d-1274ef30677c",
   "metadata": {},
   "source": [
    "8ª Questão:  Um lote de 50 peças é enviado para inspeção. O inspetor testa 5 peças e aceita o lote diretamente se as 5 peças forem consideradas boas. Se pelo menos uma for defeituosa todas as 50 peças são testadas. Considerando um lote com 6 peças defeituosas, determine a probabilidade do lote ser aceito diretamente."
   ]
  },
  {
   "cell_type": "raw",
   "id": "6fb03a1a-d819-4001-91c5-a45ed77e089a",
   "metadata": {},
   "source": [
    "**Resposta:**\n",
    "\n",
    "Probabilidade do lote ser aceito diretamente: 38.44%"
   ]
  },
  {
   "cell_type": "raw",
   "id": "7eed567e-8906-41b2-bf5b-fbfbf5e58004",
   "metadata": {},
   "source": [
    "Resolução:"
   ]
  },
  {
   "cell_type": "raw",
   "id": "22d81b01-705d-4134-9e3f-7976c2af30ab",
   "metadata": {},
   "source": [
    "#  8ª Questão:\n",
    "import numpy as np \n",
    "import pandas as pd\n",
    "from scipy.stats import hypergeom\n",
    "\n",
    "#  Quantidade para não ser aceito\n",
    "k = 1 \n",
    "\n",
    "#  Numero peças\n",
    "M = 50\n",
    "\n",
    "#  Tamanho da Amostra\n",
    "n = 5\n",
    "\n",
    "#  Peças Defeituosas\n",
    "N = 6\n",
    "\n",
    "#  Probabilidade Hypergeometrica pmf(k, M, n, N)\n",
    "prb = hypergeom.pmf(k, M, n, N)\n",
    "\n",
    "print(f'Probabilidade do lote ser aceito diretamente: {prb:.2%}')"
   ]
  },
  {
   "cell_type": "raw",
   "id": "4fad90a2-cb1a-4972-afdd-80bfde0a110d",
   "metadata": {},
   "source": [
    "---"
   ]
  },
  {
   "cell_type": "raw",
   "id": "a4d4db20-3410-48a7-88f9-185f5b22fae6",
   "metadata": {},
   "source": [
    "9ª Questão:  Uma fábrica de carros sabe que os motores de sua fabricação têm duração de acordo com uma distribuição normal com média µ = 150:000 Km e desvio-padrão σ = 5:000 km. Qual é a probabilidade de que um carro qualquer tenha um motor que dure:"
   ]
  },
  {
   "cell_type": "raw",
   "id": "62227055-3d67-402c-9573-1884834e4d2f",
   "metadata": {},
   "source": [
    "a) Pelo menos 160.000 Km?\n",
    "\n",
    "b) Entre 140.000 e 165.000 Km?\n",
    "\n",
    "c) Se a fábrica substitui o motor que apresente duração inferior à garantia, qual deve ser a garantia em Km para que a porcentagem de motores substituídos seja inferior à 0,2%?"
   ]
  },
  {
   "cell_type": "raw",
   "id": "eac24820-b421-4b6e-857a-5e13aa14c78f",
   "metadata": {},
   "source": [
    "**Respostas:**\n",
    "\n",
    "a) Pelo menos 160000km: 2.28%\n",
    "\n",
    "b) Entre 140.000 e 165.000 km: 97.59%\n",
    "\n",
    "c) A garantia deve ser de: 139731.26 km"
   ]
  },
  {
   "cell_type": "raw",
   "id": "07d578a0-7d61-4293-97c1-b4689896e001",
   "metadata": {},
   "source": [
    "Resolução:"
   ]
  },
  {
   "cell_type": "raw",
   "id": "43db4a35-91ab-4007-87ce-6352d51aa6b6",
   "metadata": {},
   "source": [
    "#  9ª Questão:\n",
    "#  a)\n",
    "import numpy as np \n",
    "import pandas as pd\n",
    "from scipy.stats import norm\n",
    "\n",
    "#  Média\n",
    "media = 150000 \n",
    "\n",
    "#  Desvio\n",
    "std_dev = 5000\n",
    "\n",
    "#  Distribuição normal.\n",
    "prb = (1 - norm.cdf(160000, media, std_dev))\n",
    "\n",
    "print(f'a) Pelo menos 160.000 km: {prb:.2%}')"
   ]
  },
  {
   "cell_type": "raw",
   "id": "e2a8d995-9320-45c7-932e-66a68bd7667d",
   "metadata": {},
   "source": [
    "#  9ª Questão:\n",
    "#  b)\n",
    "import numpy as np \n",
    "import pandas as pd\n",
    "from scipy.stats import norm\n",
    "\n",
    "#  Média\n",
    "media = 150000 \n",
    "\n",
    "#  Desvio\n",
    "std_dev = 5000\n",
    "\n",
    "#  Distribuição normal.\n",
    "prb_1 = (1 - norm.cdf(140000, media, std_dev))\n",
    "prb_2 = (1 - norm.cdf(165000, media, std_dev))\n",
    "\n",
    "# P(140000 < Z < 165000)\n",
    "prb = (prb_1 - prb_2)\n",
    "\n",
    "print(f'b) Entre 140.000 e 165.000 km: {prb:.2%}')"
   ]
  },
  {
   "cell_type": "raw",
   "id": "dfcefa61-cb01-4a25-ae6d-1ff8affc0416",
   "metadata": {},
   "source": [
    "#  9ª Questão:\n",
    "#  c)\n",
    "import numpy as np \n",
    "import pandas as pd\n",
    "from scipy.stats import norm\n",
    "\n",
    "#  Probabilidade dada no enunciado.\n",
    "probabilidade = 0.02\n",
    "\n",
    "#  Média\n",
    "media = 150000 \n",
    "\n",
    "#  Desvio\n",
    "std_dev = 5000\n",
    "\n",
    "#  Gausseana Inversa \n",
    "prb = (norm.ppf(probabilidade, media, std_dev))\n",
    "\n",
    "print(f'c) A garantia deve ser de: {prb:.2f} km')"
   ]
  },
  {
   "cell_type": "raw",
   "id": "859d6a2c-8703-4b98-8e9d-48160c5aff21",
   "metadata": {},
   "source": [
    "---"
   ]
  },
  {
   "cell_type": "raw",
   "id": "46d04e6b-2e01-4058-9ccd-2c5c1705f1a4",
   "metadata": {},
   "source": [
    "10ª Questão:  Uma pessoa decide investir em um título cambial comprando US$ 200000,00. A taxa de câmbio atual real/dolar é 2,0. Suponha que o desvio padrão diário da taxa de câmbio R seja 5,0% e que possa ser modelada por uma variável aleatória normal. Qual é a perda máxima em real em 1 dia com 95% de chances?"
   ]
  },
  {
   "cell_type": "raw",
   "id": "4b887b2e-117a-4e2b-8670-5a65b92646ce",
   "metadata": {},
   "source": [
    "**Resposta:**\n",
    "\n",
    "Perda maxima em 1 dia: 32897.07 de reais"
   ]
  },
  {
   "cell_type": "raw",
   "id": "b31a391d-8602-49f1-80f5-d99ea63af5c4",
   "metadata": {},
   "source": [
    "Resolução:"
   ]
  },
  {
   "cell_type": "raw",
   "id": "d5c74859-e771-4fd5-af18-ed5fa96753c6",
   "metadata": {},
   "source": [
    "#  10ª Questão:\n",
    "import numpy as np \n",
    "import pandas as pd\n",
    "from scipy.stats import norm\n",
    "\n",
    "#  Taxa Cambio\n",
    "tx_camb = 2 \n",
    "\n",
    "#  Investimento Inicial\n",
    "invest_ini = 200000 * tx_camb \n",
    "\n",
    "#  Desvio padrão\n",
    "std_dev = 0.05 * invest_ini\n",
    "\n",
    "#  Probabilidade\n",
    "probabilidade = 0.95\n",
    "\n",
    "#  Distribuição normal.\n",
    "distr = (norm.ppf(probabilidade, invest_ini, std_dev))\n",
    "var = distr - invest_ini\n",
    "\n",
    "print(f'Perda maxima em 1 dia: {var:.2f} de reais')"
   ]
  },
  {
   "cell_type": "raw",
   "id": "efe5ce39-0825-4d45-b717-2602a35d5fe0",
   "metadata": {},
   "source": [
    "---"
   ]
  },
  {
   "cell_type": "raw",
   "id": "7877ea0b-47ac-4982-9c05-0f2668ce7f72",
   "metadata": {},
   "source": [
    "11ª Questão:  Considere um jogo em que se paga 25,00 para entrar, e se joga 3 dados. Se apenas uma das faces der 1 ganha-se 25,00, se exatamente 2 faces derem 1 ganha-se 225,00, e se as 3 faces derem 1 ganha-se R$425,00. Qualquer outro resultado não se ganha nada. Calcule: "
   ]
  },
  {
   "cell_type": "raw",
   "id": "9686b528-a3c0-4d5a-97de-76e917c1bb16",
   "metadata": {},
   "source": [
    "i) o lucro esperado do jogador e responda se vale a pena ou não entrar nesse jogo; \n",
    "\n",
    "ii) a variância do lucro do jogador"
   ]
  },
  {
   "cell_type": "raw",
   "id": "abdb30c8-61ec-4375-96bb-29c8096b7992",
   "metadata": {},
   "source": [
    "**Respostas:**\n",
    "\n",
    "i) Lucro esperado: 1.27 de reais\n",
    "\n",
    "ii) Variancia do jogador: 3878.59"
   ]
  },
  {
   "cell_type": "raw",
   "id": "cb76ebc6-8ab5-4576-bcaa-eeba1acae134",
   "metadata": {},
   "source": [
    "Resolução:"
   ]
  },
  {
   "cell_type": "raw",
   "id": "15fefc90-5c54-4e4a-85ba-519c0381aad0",
   "metadata": {},
   "source": [
    "#  11ª Questão:\n",
    "#  I)\n",
    "prob_0 = (5/6)*(5/6)*(5/6)\n",
    "lucro_0 = 0 - 25\n",
    "\n",
    "prob_1 = 3*(1/6)*(5/6)*(5/6)\n",
    "lucro_1 = 25 - 25\n",
    "\n",
    "prob_2 = 3*(1/6)*(1/6)*(5/6)\n",
    "lucro_2 = 225 - 25\n",
    "\n",
    "prob_3 = (1/6)*(1/6)*(1/6)\n",
    "lucro_3 = 425 - 25\n",
    "\n",
    "prob = [prob_0, prob_1, prob_2, prob_3]\n",
    "lucro = [lucro_0, lucro_1, lucro_2, lucro_3]\n",
    "\n",
    "lucro_esperado = sum(x * y for x, y in zip(lucro, prob))\n",
    "print(f'i) Lucro esperado: {lucro_esperado:.2f} de reais')"
   ]
  },
  {
   "cell_type": "raw",
   "id": "866c31af-2618-4415-88ce-60de8c69fd13",
   "metadata": {},
   "source": [
    "#  11ª Questão:\n",
    "#  II)\n",
    "\n",
    "variancia = sum(y*((x - lucro_esperado)**2) for x, y in zip(lucro, prob))\n",
    "print(f'ii) Variancia do jogador: {variancia:.2f}')"
   ]
  },
  {
   "cell_type": "raw",
   "id": "46807fa6-aea3-4930-82ba-903eed69f7c3",
   "metadata": {},
   "source": [
    "---"
   ]
  },
  {
   "cell_type": "raw",
   "id": "edb3c679-8abf-4282-b88c-c0cdc93944a3",
   "metadata": {},
   "source": [
    "12ª Questão:  O verão na cidade de São Sebastião é classificado como sendo um verão chuvoso ou um verão ensolarado. Os lucros das 2 principais empresas de São Sebastião, o hotel São Sebastião e a indústria de guarda-chuvas São Sebastião dependem da classificação do verão, conforme a tabela 2. Sabe-se que 30% dos verões são chuvosos e 70% são ensolarados. Sejam as variáveis X1 e X2 o lucro do hotel São Sebastião e da indústria de guarda-chuvas São Sebastião respectivamente. Pergunta-se: "
   ]
  },
  {
   "cell_type": "raw",
   "id": "0065b9ac-ee00-476d-a12e-7ed3a32e678b",
   "metadata": {},
   "source": [
    "a) Qual é o fator de correlação entre X1 e X2? \n",
    "\n",
    "b) Suponha que voce seja dono de a% do hotel e (100 − a)% da indústria de guarda-chuvas, com 0 ≤ a ≤ 100. Qual deveria ser o valor de a para se ter risco zero, e qual seria o lucro garantido nesse caso?"
   ]
  },
  {
   "cell_type": "raw",
   "id": "82a573a0-2ade-4735-97d6-3496a8570111",
   "metadata": {},
   "source": [
    "**Respostas:**\n",
    "\n",
    "a) Ro: -1.00 \n",
    "\n",
    "b) a: 0.57 e o lucro garantido: 1285.71 reais"
   ]
  },
  {
   "cell_type": "raw",
   "id": "29947796-4dda-49d3-b7c1-4ec010b7ec4c",
   "metadata": {},
   "source": [
    "Resolução:"
   ]
  },
  {
   "cell_type": "raw",
   "id": "7a3a24d8-0a6a-4e88-8df5-bde443f641a6",
   "metadata": {},
   "source": [
    "#  12ª Questão:\n",
    "#  a)\n",
    "\n",
    "import numpy as np \n",
    "\n",
    "#  Verão Chuvoso\n",
    "p_verao_chuva = 0.3\n",
    "lucro_hotel_chuva = -1500\n",
    "lucro_indus_chuva = 5000\n",
    "\n",
    "#  Verão Sol\n",
    "p_verao_sol = 0.7\n",
    "lucro_hotel_sol = 3000\n",
    "lucro_indus_sol = -1000\n",
    "\n",
    "\n",
    "E_x1 = (p_verao_chuva * lucro_hotel_chuva) + (p_verao_sol * lucro_hotel_sol)\n",
    "E_x2 = (p_verao_chuva * lucro_indus_chuva) + (p_verao_sol * lucro_indus_sol)\n",
    "\n",
    "E_x1_x2 = (lucro_hotel_chuva*lucro_indus_chuva*p_verao_chuva) + (lucro_hotel_sol*lucro_indus_sol*p_verao_sol)\n",
    "\n",
    "#  Encontrando a Covariancia\n",
    "cov_x1_x2 = (E_x1_x2 - (E_x1*E_x2))\n",
    "\n",
    "#  Encontrando os Sigma\n",
    "sigma_1 = np.sqrt(p_verao_chuva*(lucro_hotel_chuva-E_x1)**2 + p_verao_sol*(lucro_hotel_sol-E_x1)**2)\n",
    "sigma_2 = np.sqrt(p_verao_chuva*(lucro_indus_chuva-E_x2)**2 + p_verao_sol*(lucro_indus_sol-E_x2)**2)\n",
    "\n",
    "#  Encontrando o Ro\n",
    "ro = cov_x1_x2 / (sigma_1 * sigma_2)\n",
    "\n",
    "print(f'a) Ro: {ro:.2f}')"
   ]
  },
  {
   "cell_type": "raw",
   "id": "a62c9d49-faf7-4b34-b931-4b38541ebea5",
   "metadata": {},
   "source": [
    "#  12ª Questão:\n",
    "#  b)\n",
    "\n",
    "\n",
    "#  Zerando risco: a = σ2/(σ1 + σ2)\n",
    "a = sigma_2 / (sigma_1 + sigma_2)\n",
    "\n",
    "#  Encontrando lucro garnatido\n",
    "lucro_g = (a * E_x1) + ((1 - a) * E_x2)\n",
    "\n",
    "print(f'b) a: {a:.2f} e lucro garantido: {lucro_g:.2f} reais')"
   ]
  }
 ],
 "metadata": {
  "kernelspec": {
   "display_name": "Python 3 (ipykernel)",
   "language": "python",
   "name": "python3"
  },
  "language_info": {
   "codemirror_mode": {
    "name": "ipython",
    "version": 3
   },
   "file_extension": ".py",
   "mimetype": "text/x-python",
   "name": "python",
   "nbconvert_exporter": "python",
   "pygments_lexer": "ipython3",
   "version": "3.9.13"
  }
 },
 "nbformat": 4,
 "nbformat_minor": 5
}
