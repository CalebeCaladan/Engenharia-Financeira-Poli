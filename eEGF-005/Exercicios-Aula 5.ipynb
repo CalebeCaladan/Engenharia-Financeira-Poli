{
 "cells": [
  {
   "cell_type": "markdown",
   "id": "cbf84f42-cf5c-4da2-a7cd-0c26601147c7",
   "metadata": {},
   "source": [
    "Estevão Vilas Boas"
   ]
  },
  {
   "cell_type": "markdown",
   "id": "8c77ed48",
   "metadata": {},
   "source": [
    "# Exercícios Resolvidos\n",
    "## Fundamentos de Macroeconomia e Políticas Públicas"
   ]
  },
  {
   "cell_type": "markdown",
   "id": "3a4ab22f-0bc1-4294-917e-3065a984868f",
   "metadata": {
    "tags": []
   },
   "source": [
    "### Questões para Revisão\n",
    "\n",
    "\n",
    "3 - O que é a análise de custo-benefício dos bens públicos? Por que é importante? Por que é difícil?\n",
    "\n",
    "4 - Defina e dê um exemplo de recurso comum. Sem intervenção governamental, as pessoas usarão excessivamente ou muito pouco esse bem? Por quê?"
   ]
  },
  {
   "cell_type": "markdown",
   "id": "31480820",
   "metadata": {},
   "source": [
    "#### Resolução"
   ]
  },
  {
   "cell_type": "markdown",
   "id": "5cbde668-8b12-4f43-a18e-5e927541db19",
   "metadata": {
    "tags": []
   },
   "source": [
    "3 -\n",
    "A análise de custo-benefício tenta determinar se os benefícios esperados de uma política ou projeto superam os custos associados a ela. É necessário para estimar o valor daquele bem para a sociedade pois sem isso, é difícil saber se uma política ou projeto é realmente benéfico para a sociedade como um todo... \n",
    "Entretanto, alguns bens são muito difíceis de se precificar, o livro trás o exemplo da vida. Além disso, a análise pode ser complicada pelo fato de que diferentes pessoas podem ter valores diferentes em relação a um projeto ou política. Por exemplo, alguns podem valorizar mais a preservação do meio ambiente do que o crescimento econômico, enquanto outros podem pensar o contrário. Isso torna a analise um grande desafio e corrobora para imprecisões.\n",
    "\n",
    "4 - \n",
    "Os recursos comuns são bens de propriedade compartilhada, como oceanos, rios, florestas e pastagens. Eles são diferentes dos bens privados, que são de propriedade exclusiva, e dos bens públicos, que são de propriedade coletiva. Os recursos comuns são caracterizados pela rivalidade e não-exclusividade, o que significa que sua utilização por um indivíduo afeta a disponibilidade e qualidade do recurso para outros indivíduos.\n",
    "Um exemplo clássico de recurso comum é a pesca em alto mar. Se não houver intervenção governamental, é provável que as pessoas usem excessivamente esse recurso, pescando mais do que o necessário e reduzindo a quantidade de peixes disponíveis para as gerações futuras. Já que pescador individual tem incentivos para maximizar seus próprios lucros, sem levar em conta o impacto das suas ações para o meio ambiente. \n"
   ]
  },
  {
   "cell_type": "markdown",
   "id": "3cc67be7-962f-4ac9-a2d8-18ec915f06c9",
   "metadata": {
    "tags": []
   },
   "source": [
    "### Problemas e Aplicações\n",
    "\n",
    "\n",
    "2 - \n",
    "Pense nos bens e serviços proporcionados por seu governo local: \n",
    "\n",
    " a) Usando a classificação da Figura 1, explique a que categoria pertence cada um dos bens a seguir:\n",
    "  * proteção policial\n",
    "  * limpeza das ruas\n",
    "  * educação\n",
    "  * estradas rurais\n",
    "  * vias urbanas\n",
    "\n",
    " b) Por que, em sua opinião, o governo fornece itens que não são bens públicos?\n",
    " \n",
    "6 - \n",
    "O sistema de metrô de Washington, D.C., cobra tarifas mais altas durante os horários de rush. Por que?\n",
    "\n",
    "11 - As pessoas de renda mais alta estão dispostas a pagar mais do que as de renda mais baixa para evitar o risco de morte. Exemplificando, estão mais dispostas a pagar por acessórios de segurança em seus carros. Em sua opinião, os analistas de custo benefício devem levar isso em conta em suas avaliações de projetos públicos? Considere, por exemplo, uma cidade rica e outra pobre, as duas considerando a instalação de um semáforo. A cidade mais rica deve atribuir à vida humana um valor monetário mais elevado ao tomar sua decisão? Por quê?"
   ]
  },
  {
   "cell_type": "markdown",
   "id": "966e1bb8",
   "metadata": {},
   "source": [
    "#### Resolução"
   ]
  },
  {
   "cell_type": "markdown",
   "id": "3897f4b3-d68b-488b-83ae-c05abdb12b1c",
   "metadata": {
    "tags": []
   },
   "source": [
    "2 - \n",
    "\n",
    "a)\n",
    " * Proteção Policial: Monopólio natural, não ravais e excludentes.\n",
    " * Limpeza das Ruas: Recurso comum, porem rival em alta demanda.\n",
    " * Educação: Bem privado, é excludente e rival.\n",
    " * Estradas Rurais: Bens publicos\n",
    " * Vias Urbanas: Recursos comuns pois podem ser rivais quando congestiodas. Quando não estão cheias, são bens públicos.\n",
    "\n",
    "b) Uma das principais razões é a presença de falhas de mercado que impedem o setor privado de fornecer eficientemente certos bens e serviços. Em suma o governo pode fornecer itens que não são bens públicos para corrigir as falhas de mercado que impedem o setor privado de fornecer eficientemente certos bens e serviços. A educação e a saúde são dois exemplos importantes de bens que são fornecidos pelo governo para garantir que todas as pessoas tenham acesso a esses serviços essenciais."
   ]
  },
  {
   "cell_type": "markdown",
   "id": "b1683cea-2f13-4b2e-ac9b-4cf9a5ab9c83",
   "metadata": {},
   "source": [
    "3 - \n",
    "\n",
    "Porque isso ajuda a gerenciar a demanda pelo serviço de transporte público. As tarifas mais altas incentivam as pessoas a considerarem outras opções de transporte ou a mudar seus horários de viagem. Equilibrando assim, a oferta e a demanda."
   ]
  },
  {
   "cell_type": "markdown",
   "id": "f48d2d24-97ff-4a12-a607-e04c8f86e6d5",
   "metadata": {},
   "source": [
    "11 -\n",
    "\n",
    "Acredito que a atribuição de um valor monetário à vida humana não deve depender da riqueza de uma cidade. No entanto, é importante que as políticas públicas considerem a escassez de recursos e as necessidades da sociedade como um todo. A valoração da vida humana pode ser útil nesse contexto, como uma forma de avaliar os custos e benefícios de diferentes políticas.\n",
    "Em resumo, a decisão deve levar em conta um conjunto mais complexo e não deve depender exclusivamente da riqueza de uma cidade em comparação a vida."
   ]
  },
  {
   "cell_type": "markdown",
   "id": "4db188a3-66ef-4188-b9d5-124f025d468d",
   "metadata": {},
   "source": [
    "---"
   ]
  },
  {
   "cell_type": "markdown",
   "id": "98d56640-3d26-4367-9d81-99748501ab43",
   "metadata": {},
   "source": [
    "![title](img/Fig1_Ex.png)\n",
    "\n",
    "Figura Slide 21"
   ]
  },
  {
   "cell_type": "markdown",
   "id": "12acd5b2-c1a8-44d9-a376-6e8236d47996",
   "metadata": {},
   "source": [
    "---"
   ]
  },
  {
   "cell_type": "markdown",
   "id": "82828dcd-f2ec-43ef-bea9-7ffbaea80f0d",
   "metadata": {},
   "source": [
    "### Discussão: Four visions of the century ahead"
   ]
  },
  {
   "cell_type": "markdown",
   "id": "12e95401-eb57-4583-b3cb-34ba42805a06",
   "metadata": {},
   "source": [
    "* Quais são as caraterísticas de cada um dos quatro cenários?\n",
    "   * Star Trek: Um futuro em que a humanidade superou muitos de seus problemas atuais e se uniu em uma busca por exploração e conhecimento. \n",
    "   * Ecotopia: Imagina uma sociedade futura que prioriza a sustentabilidade ambiental e a igualdade social.\n",
    "   * Big Government: Se refere a um governo que está envolvido em muitos aspectos da sociedade e da economia. \n",
    "   * Mad Max: Este é um futuro distópico em que o colapso da sociedade levou à violência e à falta de lei.\n",
    "   \n",
    "\n",
    "* Qual é o mais tranquilo de se viver e qual é o mais restritivo?\n",
    "  * Apesar de Madmax ser um dos meus filmes preferidos, tenho certeza que viver nas altas temperaturas e extrema falta de agua causada pelo aquecimento global, não é interessante. Creio que o mais interessante seja usar a tecnologia a nosso favor, e assim alcançar maiores objetivos sem destruir o planeta. Portanto a proposta de Vida longa e próspera oferecida por StarTrek me chama bastante atenção, mesmo sendo mais fã de Starwars.\n",
    "\n",
    "\n",
    "* Diante da descrição desses quatro cenários e da necessidade de que a humanidade tenha uma visão comum compartilhada e consensual de todos, o que o autor propõe como conclusão?\n",
    "  * Robert Costanza acredita que precisamos fazer uma transição para uma sociedade mais sustentável e equitativa, onde o bem-estar humano não seja alcançado às custas do meio ambiente."
   ]
  },
  {
   "cell_type": "markdown",
   "id": "2712c831-e95b-4199-a597-07eb153e12a5",
   "metadata": {},
   "source": [
    "---"
   ]
  }
 ],
 "metadata": {
  "kernelspec": {
   "display_name": "Python 3 (ipykernel)",
   "language": "python",
   "name": "python3"
  },
  "language_info": {
   "codemirror_mode": {
    "name": "ipython",
    "version": 3
   },
   "file_extension": ".py",
   "mimetype": "text/x-python",
   "name": "python",
   "nbconvert_exporter": "python",
   "pygments_lexer": "ipython3",
   "version": "3.9.13"
  }
 },
 "nbformat": 4,
 "nbformat_minor": 5
}
