{
 "cells": [
  {
   "cell_type": "markdown",
   "id": "cde25191-d5de-4e3e-afb4-ab6c50ce5e5c",
   "metadata": {},
   "source": [
    "Nome: Estevão Calebe Almeidas Vilas Boas\n",
    "\n",
    "Matricula: 97276"
   ]
  },
  {
   "cell_type": "markdown",
   "id": "33fbf059-320d-4660-9548-5610c99d4f1a",
   "metadata": {
    "tags": []
   },
   "source": [
    "# Probabilidade e Estatística - 1ª Lista de Exercícios - 2023"
   ]
  },
  {
   "cell_type": "markdown",
   "id": "2fa73e7b-ec6d-479a-8c4e-78439a08d233",
   "metadata": {},
   "source": [
    "1ª Questão: Considere a distribuição de 300 estudantes segundo sexo e área de concentração em uma escola como na tabela 1. Um estudante é escolhido ao acaso. Determine:\n",
    "\n",
    "   a) a probabilidade de que seja do sexo feminino e da área de humanas\n",
    "    \n",
    "   b) a probabilidade de que seja do sexo masculino e não seja da área de biológicas\n",
    "    \n",
    "   c) a probabilidade de que seja do sexo feminino dado que é da área de humanas"
   ]
  },
  {
   "cell_type": "markdown",
   "id": "e2d25ecb-559c-4763-8bf0-a1050d7fcb3f",
   "metadata": {},
   "source": [
    "Resolução:"
   ]
  },
  {
   "cell_type": "markdown",
   "id": "dc457603-c5cc-4f7a-9a19-af96e7db34d7",
   "metadata": {},
   "source": [
    "a)\n",
    "$$ P(F \\cap H) = P(F \\mid H)\\cdot P(H) = \\frac{80}{138} \\cdot \\frac{138}{300} = \\frac{4}{15} \\approx 26.66\\% $$\n",
    "\n",
    "b) \n",
    "$$ P(M \\cap B^c) = P(M \\mid B^c)\\cdot P(B^c) = \\frac{98}{210}\\cdot \\frac{210}{300} = \\frac{98}{300} \\approx 32.66\\% $$\n",
    "\n",
    "c)\n",
    "$$ P(F) = \\frac{80}{138} \\approx 57.97\\% $$\n"
   ]
  },
  {
   "cell_type": "code",
   "execution_count": 1,
   "id": "a79365f0",
   "metadata": {},
   "outputs": [
    {
     "name": "stdout",
     "output_type": "stream",
     "text": [
      "a) 4/15 ou 26.67%\n",
      "b) 49/150 ou 32.67%\n",
      "c) 40/69 ou 57.97%\n"
     ]
    }
   ],
   "source": [
    "from fractions import Fraction\n",
    "\n",
    "# a)\n",
    "P_F_H = (Fraction(80,138) * Fraction(138,300))\n",
    "print(f'a) {P_F_H} ou {float(P_F_H):.2%}')\n",
    "\n",
    "# b)\n",
    "P_M_Bc = (Fraction(98,210) * Fraction(210,300))\n",
    "print(f'b) {P_M_Bc} ou {float(P_M_Bc):.2%}')\n",
    "\n",
    "# c)\n",
    "P_F = (Fraction(80,138))\n",
    "print(f'c) {P_F} ou {float(P_F):.2%}')"
   ]
  },
  {
   "cell_type": "markdown",
   "id": "3b652eb1-2c88-44d1-b639-5a9d54027483",
   "metadata": {},
   "source": [
    "---"
   ]
  },
  {
   "cell_type": "markdown",
   "id": "cf942f89-b8af-4866-9356-11091064cf9d",
   "metadata": {},
   "source": [
    "2ª Questão: Um aluno responde a um teste de múltipla escolha com 4 alternativas e apenas 1 correta. A probabilidade de que ele saiba a resposta correta de uma questão é de 30%. Se ele não sabe existe a possibilidade de acertar no chute (não existe a possibilidade de cola). Se ele acertou uma determinada questão, qual é a probabilidade de ele realmente saber a resposta correta?"
   ]
  },
  {
   "cell_type": "markdown",
   "id": "0472a23f-1187-48ea-a84f-9f14e170259b",
   "metadata": {},
   "source": [
    "Resolução:"
   ]
  },
  {
   "cell_type": "markdown",
   "id": "bfec6839",
   "metadata": {},
   "source": [
    "$$ P(S \\mid A) = \\frac{P(S \\cap A)}{P(A)} = \\frac{0.3}{0.3\\cdot1 + 0.70\\cdot0.25} \\approx 63.16\\% $$"
   ]
  },
  {
   "cell_type": "code",
   "execution_count": 2,
   "id": "7782fdab",
   "metadata": {},
   "outputs": [
    {
     "name": "stdout",
     "output_type": "stream",
     "text": [
      "Resposta: 63.16%\n"
     ]
    }
   ],
   "source": [
    "def teoremaBayes(pA, pB, pBA):\n",
    "    return pA * pBA / pB\n",
    "\n",
    "#  Questão Correta\n",
    "q = 1/4\n",
    "\n",
    "#  P(Saber a questão)\n",
    "pA = 0.30\n",
    "\n",
    "#  P(Saber e acertar) + P(Acertar no Chute)\n",
    "pB = (0.30 * 1) + (0.70 * q)\n",
    "\n",
    "#  P(Acertar e Saber)\n",
    "#  Se ele sabe, vai acertar a questão.\n",
    "pBA = 1 \n",
    "\n",
    "print(f'Resposta: {teoremaBayes(pA, pB, pBA):.2%}') "
   ]
  },
  {
   "cell_type": "markdown",
   "id": "cbccde93-738e-45c3-bc2d-4e64fa554cbd",
   "metadata": {},
   "source": [
    "---"
   ]
  },
  {
   "cell_type": "markdown",
   "id": "c6d12b92-6b10-4116-b5a5-580df0402e4b",
   "metadata": {},
   "source": [
    "3ª Questão: Urna 1 contém 8 bolas pretas e 2 brancas, urna 2 contém 4 pretas e 5 brancas, e urna 3 contém 7 pretas e 2 brancas. Passa-se uma bola da urna 1 para a urna 2, e depois passa-se uma bola da urna 2 para a urna 3. A seguir retiram-se 2 bolas da urna 3, com reposição. Qual é a probabilidade de que essas 2 bolas sejam brancas?"
   ]
  },
  {
   "cell_type": "markdown",
   "id": "e0c2990c",
   "metadata": {},
   "source": [
    "Resolução:"
   ]
  },
  {
   "cell_type": "markdown",
   "id": "e9321414",
   "metadata": {},
   "source": [
    "$$ P(1) = \\frac{3}{10} \\cdot \\frac{3}{10} \\cdot 0.6 \\cdot 0.2 = 1.08 \\% $$\n",
    "$$ P(2) = \\frac{2}{10} \\cdot \\frac{2}{10} \\cdot 0.4 \\cdot 0.2 = 0.32 \\% $$\n",
    "$$ P(3) = \\frac{3}{10} \\cdot \\frac{3}{10} \\cdot 0.5 \\cdot 0.8 = 3.60 \\% $$\n",
    "$$ P(4) =\\frac{2}{10} \\cdot \\frac{2}{10} \\cdot 0.5 \\cdot 0.8 = 1.60 \\% $$\n",
    "\n",
    "$$ \\sum =  6.60 \\% $$"
   ]
  },
  {
   "cell_type": "code",
   "execution_count": 3,
   "id": "e57dece2",
   "metadata": {},
   "outputs": [
    {
     "name": "stdout",
     "output_type": "stream",
     "text": [
      "1.08%\n",
      "0.32%\n",
      "3.60%\n",
      "1.60%\n",
      "a) Soma das Probabilidades: 6.60%\n"
     ]
    }
   ],
   "source": [
    "from fractions import Fraction\n",
    "\n",
    "P_1 = (Fraction(3,10) * Fraction(3,10) * Fraction(6,10) * Fraction(2,10))\n",
    "print(f'{float(P_1):.2%}')\n",
    "P_2 = (Fraction(2,10) * Fraction(2,10) * Fraction(4,10) * Fraction(2,10))\n",
    "print(f'{float(P_2):.2%}')\n",
    "P_3 = (Fraction(3,10) * Fraction(3,10) * Fraction(5,10) * Fraction(8,10))\n",
    "print(f'{float(P_3):.2%}')\n",
    "P_4 = (Fraction(2,10) * Fraction(2,10) * Fraction(5,10) * Fraction(8,10))\n",
    "print(f'{float(P_4):.2%}')\n",
    "\n",
    "print(f'a) Soma das Probabilidades: {float(P_1 + P_2 + P_3 + P_4):.2%}')"
   ]
  },
  {
   "cell_type": "markdown",
   "id": "92e50dc3-0ff0-4f4e-ac98-c1101d5567bb",
   "metadata": {},
   "source": [
    "---"
   ]
  },
  {
   "cell_type": "markdown",
   "id": "9fa64c91",
   "metadata": {},
   "source": [
    "4ª Questão: Uma companhia produz circuitos integrados em três fábricas, I, II e III. A fábrica\n",
    "I produz 40% dos circuitos, enquanto a II e III produzem 30% cada uma. As probabilidades\n",
    "de que um circuito integrado produzido por estas fábricas não funcione são p, 0; 05 e 0; 04,\n",
    "respectivamente"
   ]
  },
  {
   "cell_type": "markdown",
   "id": "362c1363",
   "metadata": {},
   "source": [
    "a) Determine p de modo que um circuito escolhido aleatoriamente da produção conjunta das\n",
    "três fábricas tenha probabilidade de não funcionar igual a 3,5%? R: Probabilidade de falha na fabrica 1: 2.00%\n",
    "\n",
    "\n",
    "b) Dado que o circuito escolhido funciona, qual é a probabilidade de que tenha vindo da\n",
    "fábrica III (considere p como obtido no item a))?"
   ]
  },
  {
   "cell_type": "markdown",
   "id": "16581984-db84-4ddd-9577-7e3de8fc0aa2",
   "metadata": {},
   "source": [
    "**Respostas:**\n",
    "\n",
    "a) Probabilidade de falha na fabrica 1: 2.00%\n",
    "\n",
    "b) Probabilidade do circuito ter vindo da fabrica 3, dado que funciona: 29.84%"
   ]
  },
  {
   "cell_type": "markdown",
   "id": "08b9547e",
   "metadata": {},
   "source": [
    "Resolução:"
   ]
  },
  {
   "cell_type": "code",
   "execution_count": 4,
   "id": "ba5ed11e",
   "metadata": {},
   "outputs": [
    {
     "name": "stdout",
     "output_type": "stream",
     "text": [
      "a) Probabilidade de falha na fabrica 1: 2.00%\n"
     ]
    }
   ],
   "source": [
    "#  4ª Questão: \n",
    "#  a)\n",
    "from sympy import Eq, solve, symbols\n",
    "from sympy.abc import p\n",
    "\n",
    "#  Probabilidades do circuito pertencer a fábrica\n",
    "P_F1 = 0.40\n",
    "P_F2 = 0.30\n",
    "P_F3 = 0.30\n",
    "\n",
    "#  Probabilidade de falha dado a fabrica\n",
    "P_R_F1 = ''\n",
    "P_R_F2 = 0.05\n",
    "P_R_F3 = 0.04\n",
    "\n",
    "#  Probabilidade de não funcionar\n",
    "P_R = 0.035\n",
    "\n",
    "eqn = Eq(p * P_F1 + P_R_F2 * P_F2 + P_R_F3 * P_F3, P_R)\n",
    "p = solve(eqn, p)\n",
    "P_R_F1 = p[0]\n",
    "print(f'a) Probabilidade de falha na fabrica 1: {float(P_R_F1):.2%}')"
   ]
  },
  {
   "cell_type": "code",
   "execution_count": 5,
   "id": "fc6a890d-f906-45ec-95fb-ac3018694248",
   "metadata": {},
   "outputs": [
    {
     "name": "stdout",
     "output_type": "stream",
     "text": [
      "b) Probabilidade do circuito ter vindo da fabrica 3, dado que funciona: 29.84%\n"
     ]
    }
   ],
   "source": [
    "#  4ª Questão: \n",
    "#  b)\n",
    "\n",
    "#  P(F3|B) = P(B|F3) * P(F3) / P(B)\n",
    "#  O problema dá a probabilidade de falha, então, subtraimos 1 para considerar a possibilidade de sucesso.\n",
    "P_F3_B = (P_F3 * (1-P_R_F3)) / ((P_F1 * (1-P_R_F1)) + (P_F2 * (1-P_R_F2)) + (P_F3 * (1-P_R_F3)))\n",
    "\n",
    "print(f'b) Probabilidade do circuito ter vindo da fabrica 3, dado que funciona: {float(P_F3_B):.2%}')"
   ]
  },
  {
   "cell_type": "markdown",
   "id": "b6db62f8-543d-483d-8440-976e6a718536",
   "metadata": {},
   "source": [
    "---"
   ]
  },
  {
   "cell_type": "markdown",
   "id": "d42fcdf8-055c-4552-8385-3b56e13b44fc",
   "metadata": {},
   "source": [
    "5ª Questão: Uma pessoa tem 2 moedas uma justa e outra falsa, com cara nos dois lados. Ele escolhe uma aleatoriamente."
   ]
  },
  {
   "cell_type": "markdown",
   "id": "21cca115-8565-4451-8d89-675da36aa24c",
   "metadata": {},
   "source": [
    "a) Ele joga a moeda e o resultado é cara; qual é a probabilidade de que ele tenha escolhido a moeda justa?\n",
    "\n",
    "b) Ele joga novamente a moeda, e novamente sai cara; qual é a probabilidade de que ele tenha escolhido a moeda justa?\n",
    "\n",
    "c) Ele joga mais uma vez a moeda, e desta vez sai coroa; qual é a probabilidade de que ele tenha escolhido a moeda justa"
   ]
  },
  {
   "cell_type": "markdown",
   "id": "e22b7e21-0d3d-4f12-b247-3309765676c5",
   "metadata": {},
   "source": [
    "**Respostas:**\n",
    "\n",
    "a) Probabilidade de ser a moeda justa, dado que saiu cara: 33.33%\n",
    "\n",
    "b) Probabilidade de ser a moeda justa, tirando cara duas vezes: 20.00%\n",
    "\n",
    "c) A moeda só pode ser Justa, dado que a probabilidade da moeda falsa dar cara é igual a Zero."
   ]
  },
  {
   "cell_type": "markdown",
   "id": "c5976700-51cc-47ab-8e20-f3b2a3177bbe",
   "metadata": {},
   "source": [
    "Resolução:"
   ]
  },
  {
   "cell_type": "code",
   "execution_count": 6,
   "id": "949581ba-5ba1-447f-98f1-da59881751de",
   "metadata": {},
   "outputs": [
    {
     "name": "stdout",
     "output_type": "stream",
     "text": [
      "a) Probabilidade de ser a moeda justa, dado que saiu cara: 33.33%\n"
     ]
    }
   ],
   "source": [
    "#  5ª Questão: \n",
    "#  a)\n",
    "\n",
    "#  Probabilidade Moeda Justa\n",
    "P_MJ = 0.5\n",
    "\n",
    "#  Probabilidade Moeda Falsa\n",
    "P_MF = 0.5\n",
    "\n",
    "#  Probabilidade de dar cara dado Moeda Justa \n",
    "P_C_MJ = 0.5\n",
    "\n",
    "#  Probabilidade de dar cara dado Moeda Falsa \n",
    "P_C_MF = 1\n",
    "\n",
    "#  P(MJ|C)\n",
    "P_MJ_C = (P_MJ * P_C_MJ) / ((P_MJ * P_C_MJ) + (P_MF * P_C_MF))\n",
    "print(f'a) Probabilidade de ser a moeda justa, dado que saiu cara: {float(P_MJ_C):.2%}')"
   ]
  },
  {
   "cell_type": "code",
   "execution_count": 7,
   "id": "78efad9c-0338-44e5-a6ed-fbdb2fb303a4",
   "metadata": {},
   "outputs": [
    {
     "name": "stdout",
     "output_type": "stream",
     "text": [
      "b) Probabilidade de ser a moeda justa, tirando cara duas vezes: 20.00%\n"
     ]
    }
   ],
   "source": [
    "#  5ª Questão: \n",
    "#  b)\n",
    "\n",
    "#  Probabilidade Cara - Cara, Moeda Falsa\n",
    "P_C_C_MF = P_MF * P_C_MF * P_C_MF           # 0.5\n",
    "\n",
    "#  Probabilidade Cara - Cara, Moeda Justa\n",
    "P_C_C_MJ = P_MJ * P_C_MJ * P_C_MJ           # 0.125\n",
    "\n",
    "#  Probabilidade Cara - Coroa, Moeda Justa\n",
    "P_C_K_MJ = P_MJ * P_C_MJ * (1-P_C_MJ)       # 0.125\n",
    "\n",
    "#  Probabilidade Coroa - Cara, Moeda Justa\n",
    "P_K_C_MJ = P_MJ * (1-P_C_MJ) * P_C_MJ       # 0.125\n",
    "\n",
    "#  Probabilidade Coroa - Coroa, Moeda Justa\n",
    "P_K_K_MJ = P_MJ * (1-P_C_MJ) * (1-P_C_MJ)   # 0.125\n",
    "\n",
    "#  Probabilidade Coroa - Coroa, dado Moeda Justa\n",
    "#  Evento / Possiveis eventos.\n",
    "P_MJ_C_C = P_C_C_MJ / (P_C_C_MF + P_C_C_MJ)\n",
    "\n",
    "print(f'b) Probabilidade de ser a moeda justa, tirando cara duas vezes: {float(P_MJ_C_C):.2%}')"
   ]
  },
  {
   "cell_type": "code",
   "execution_count": 8,
   "id": "3143fbee-1785-4d18-842a-22020889a97d",
   "metadata": {},
   "outputs": [
    {
     "name": "stdout",
     "output_type": "stream",
     "text": [
      "c) A moeda só pode ser Justa, dado que a probabilidade da moeda falsa dar cara é igual a Zero\n"
     ]
    }
   ],
   "source": [
    "#  5ª Questão: \n",
    "#  c)\n",
    "print(f'c) A moeda só pode ser Justa, dado que a probabilidade da moeda falsa dar cara é igual a Zero')  "
   ]
  },
  {
   "cell_type": "markdown",
   "id": "082bef77-7add-45bb-84c4-2e0b846e73d9",
   "metadata": {},
   "source": [
    "---"
   ]
  },
  {
   "cell_type": "markdown",
   "id": "185719ad-40b8-4fed-a09f-0391cc2a9b19",
   "metadata": {},
   "source": [
    "6ª Questão: Uma empresa aérea sabe que 5% das pessoas que fazem reserva não aparecem. Por isto vende 52 assentos para um vôo com 50 lugares. No dia do vôo, qual é a probabilidade de todos os passageiros embarcarem?"
   ]
  },
  {
   "cell_type": "markdown",
   "id": "6383a022-2c07-403a-883f-4c2678b3ab43",
   "metadata": {},
   "source": [
    "**Resposta:**\n",
    "\n",
    "Probabilidade de 51 ou mais comparecerem: 74.05%"
   ]
  },
  {
   "cell_type": "markdown",
   "id": "a00c5661-ad28-4c2e-a912-0c6b51d529c0",
   "metadata": {},
   "source": [
    "Resolução:"
   ]
  },
  {
   "cell_type": "code",
   "execution_count": 9,
   "id": "212d8f2f-53b1-4d2f-8588-7231b88b9ab0",
   "metadata": {},
   "outputs": [
    {
     "name": "stdout",
     "output_type": "stream",
     "text": [
      "Probabilidade de 51 ou mais comparecerem: 74.05%\n",
      "Probabilidade de 51 ou mais comparecerem: 74.05%\n"
     ]
    }
   ],
   "source": [
    "#  6ª Questão:\n",
    "from scipy.stats import binom\n",
    "\n",
    "#  Possibilidade de Comparecer\n",
    "A = 1-0.05\n",
    "\n",
    "#  Possibilidade de não Comparecer\n",
    "q = 0.05\n",
    "\n",
    "#  Numero de vendas\n",
    "N = 52\n",
    "\n",
    "#  Numero de lugares disponiveis\n",
    "K = 50 \n",
    "\n",
    "#  Usando a formula da Distribuição Cumulativa Binomial. \n",
    "P = binom.cdf(K, N, A)\n",
    "\n",
    "print(f'Probabilidade de 51 ou mais comparecerem: {float(P):.2%}')\n",
    "\n",
    "from sympy import *\n",
    "#  Demonstração Matemática\n",
    "\n",
    "# P_51 = (52*0.95**51*0.05**1)\n",
    "P_51 = binomial(52,51)*(A**51)*(q**1)\n",
    "\n",
    "# P_52 = (1*0.95**52*0.05**0)\n",
    "P_52 = binomial(52,52)*(A**52)*(q**0)\n",
    "\n",
    "P = 1 - (P_51 + P_52)\n",
    "print(f'Probabilidade de 51 ou mais comparecerem: {float(P):.2%}')"
   ]
  },
  {
   "cell_type": "markdown",
   "id": "9725da0f-e845-4716-aab9-50751debc5cd",
   "metadata": {},
   "source": [
    "---"
   ]
  },
  {
   "cell_type": "markdown",
   "id": "e3b09288-5c1e-42b8-b5f1-1ea780348708",
   "metadata": {},
   "source": [
    "7ª Questão:  Suponha que uma ação vale inicialmente S(0) = R$ 12; 00, e que a cada instante possa aumentar de valor em 3% com probabilidade p = 0; 45 ou diminuir de valor em 2% com probabilidade 1 − p = 0; 55."
   ]
  },
  {
   "cell_type": "markdown",
   "id": "6b661e8c-ca7b-406f-987c-60088fdcb876",
   "metadata": {},
   "source": [
    "a) Qual é a probabilidade da ação valer mais que seu valor inicial no instante t = 3.\n",
    "\n",
    "b) Qual é a probabilidade da ação valer mais que R$ 13; 00 no instante t = 15 (se preferir, use a planilha excel para resolver esse item)."
   ]
  },
  {
   "cell_type": "markdown",
   "id": "94dbe5a5-c4f5-4fe2-b1ec-1f70faa3e0b1",
   "metadata": {},
   "source": [
    "**Respostas:**\n",
    "\n",
    "a) Probabilidade da ação valer mais que 12.0 no instante 3: 42.52%\n",
    "\n",
    "b) Probabilidade da ação valer mais que 13.0 no instante 15: 34.65%"
   ]
  },
  {
   "cell_type": "markdown",
   "id": "465410b8-7609-4d72-825d-b1fb289fc943",
   "metadata": {},
   "source": [
    "Resolução:"
   ]
  },
  {
   "cell_type": "code",
   "execution_count": 10,
   "id": "33712db7-a9d3-4c15-861c-4720278462aa",
   "metadata": {},
   "outputs": [
    {
     "data": {
      "text/html": [
       "<div>\n",
       "<style scoped>\n",
       "    .dataframe tbody tr th:only-of-type {\n",
       "        vertical-align: middle;\n",
       "    }\n",
       "\n",
       "    .dataframe tbody tr th {\n",
       "        vertical-align: top;\n",
       "    }\n",
       "\n",
       "    .dataframe thead th {\n",
       "        text-align: right;\n",
       "    }\n",
       "</style>\n",
       "<table border=\"1\" class=\"dataframe\">\n",
       "  <thead>\n",
       "    <tr style=\"text-align: right;\">\n",
       "      <th></th>\n",
       "      <th>Probabilidade</th>\n",
       "      <th>Valor Instante 3</th>\n",
       "    </tr>\n",
       "  </thead>\n",
       "  <tbody>\n",
       "    <tr>\n",
       "      <th>0</th>\n",
       "      <td>0.091125</td>\n",
       "      <td>13.112724</td>\n",
       "    </tr>\n",
       "    <tr>\n",
       "      <th>1</th>\n",
       "      <td>0.111375</td>\n",
       "      <td>12.476184</td>\n",
       "    </tr>\n",
       "    <tr>\n",
       "      <th>2</th>\n",
       "      <td>0.111375</td>\n",
       "      <td>12.476184</td>\n",
       "    </tr>\n",
       "    <tr>\n",
       "      <th>3</th>\n",
       "      <td>0.136125</td>\n",
       "      <td>11.870544</td>\n",
       "    </tr>\n",
       "    <tr>\n",
       "      <th>4</th>\n",
       "      <td>0.111375</td>\n",
       "      <td>12.476184</td>\n",
       "    </tr>\n",
       "    <tr>\n",
       "      <th>5</th>\n",
       "      <td>0.136125</td>\n",
       "      <td>11.870544</td>\n",
       "    </tr>\n",
       "    <tr>\n",
       "      <th>6</th>\n",
       "      <td>0.136125</td>\n",
       "      <td>11.870544</td>\n",
       "    </tr>\n",
       "    <tr>\n",
       "      <th>7</th>\n",
       "      <td>0.166375</td>\n",
       "      <td>11.294304</td>\n",
       "    </tr>\n",
       "  </tbody>\n",
       "</table>\n",
       "</div>"
      ],
      "text/plain": [
       "   Probabilidade  Valor Instante 3\n",
       "0       0.091125         13.112724\n",
       "1       0.111375         12.476184\n",
       "2       0.111375         12.476184\n",
       "3       0.136125         11.870544\n",
       "4       0.111375         12.476184\n",
       "5       0.136125         11.870544\n",
       "6       0.136125         11.870544\n",
       "7       0.166375         11.294304"
      ]
     },
     "metadata": {},
     "output_type": "display_data"
    },
    {
     "name": "stdout",
     "output_type": "stream",
     "text": [
      "a) Probabilidade da ação valer mais que 12.0 no instante 3: 42.52%\n"
     ]
    }
   ],
   "source": [
    "#  7ª Questão:\n",
    "#  a)\n",
    "import numpy as np \n",
    "import pandas as pd\n",
    "from scipy.stats import binom\n",
    "\n",
    "#  Valor Inicial\n",
    "VI = 12.0\n",
    "\n",
    "#  Aumento, probabilidade\n",
    "A, P_A = 0.03, 0.45\n",
    "\n",
    "#  Redução, probabilidade\n",
    "R, P_R = 0.02, 0.55\n",
    "\n",
    "#  Aumento Aumento Aumento\n",
    "P_A_A_A = P_A * P_A * P_A\n",
    "V_A_A_A = VI * (1+A) * (1+A) * (1+A)\n",
    "\n",
    "#  Aumento Aumento Redução\n",
    "P_A_A_R = P_A * P_A * P_R\n",
    "V_A_A_R = VI * (1+A) * (1+A) * (1-R)\n",
    "\n",
    "#  Aumento Redução Aumento\n",
    "P_A_R_A = P_A * P_R * P_A\n",
    "V_A_R_A = VI * (1+A) * (1-R) * (1+A)\n",
    "\n",
    "#  Aumento Redução Redução\n",
    "P_A_R_R = P_A * P_R * P_R\n",
    "V_A_R_R = VI * (1+A) * (1-R) * (1-R)\n",
    "\n",
    "#  Redução Aumento Aumento\n",
    "P_R_A_A = P_R * P_A * P_A\n",
    "V_R_A_A = VI * (1-R) * (1+A) * (1+A)\n",
    "\n",
    "#  Redução Aumento Redução\n",
    "P_R_A_R = P_R * P_A * P_R\n",
    "V_R_A_R = VI * (1-R) * (1+A) * (1-R)\n",
    "\n",
    "#  Redução Redução Aumento\n",
    "P_R_R_A = P_R * P_R * P_A\n",
    "V_R_R_A = VI * (1-R) * (1-R) * (1+A)\n",
    "\n",
    "#  Redução Redução Redução\n",
    "P_R_R_R = P_R * P_R * P_R\n",
    "V_R_R_R = VI * (1-R) * (1-R) * (1-R)\n",
    "\n",
    "lista_prob = [P_A_A_A, P_A_A_R, P_A_R_A, P_A_R_R, P_R_A_A, P_R_A_R, P_R_A_R, P_R_R_R]\n",
    "lista_valor = [V_A_A_A, V_A_A_R, V_A_R_A, V_A_R_R, V_R_A_A, V_R_A_R, V_R_A_R, V_R_R_R]\n",
    "\n",
    "df = pd.DataFrame({'Probabilidade': lista_prob,\n",
    "                   'Valor Instante 3': lista_valor})\n",
    "\n",
    "display(df)\n",
    "\n",
    "p_i_3 = df.loc[df['Valor Instante 3'] >= VI, 'Probabilidade']\n",
    "p_i_3 = p_i_3.sum()\n",
    "\n",
    "print(f'a) Probabilidade da ação valer mais que {VI} no instante 3: {p_i_3:.2%}')\n",
    "#print(sum(lista_prob))\n",
    "#print(sum(lista_valor))\n",
    "#lista_valor"
   ]
  },
  {
   "cell_type": "code",
   "execution_count": 11,
   "id": "ba98f584-d465-4d4a-8215-f5e36b4e523a",
   "metadata": {},
   "outputs": [
    {
     "data": {
      "text/html": [
       "<div>\n",
       "<style scoped>\n",
       "    .dataframe tbody tr th:only-of-type {\n",
       "        vertical-align: middle;\n",
       "    }\n",
       "\n",
       "    .dataframe tbody tr th {\n",
       "        vertical-align: top;\n",
       "    }\n",
       "\n",
       "    .dataframe thead th {\n",
       "        text-align: right;\n",
       "    }\n",
       "</style>\n",
       "<table border=\"1\" class=\"dataframe\">\n",
       "  <thead>\n",
       "    <tr style=\"text-align: right;\">\n",
       "      <th></th>\n",
       "      <th>Instante</th>\n",
       "      <th>Preço</th>\n",
       "      <th>Probabilidade</th>\n",
       "      <th>Probabilidade Acum</th>\n",
       "    </tr>\n",
       "  </thead>\n",
       "  <tbody>\n",
       "    <tr>\n",
       "      <th>0</th>\n",
       "      <td>0</td>\n",
       "      <td>8.86</td>\n",
       "      <td>0.000127</td>\n",
       "      <td>0.000127</td>\n",
       "    </tr>\n",
       "    <tr>\n",
       "      <th>1</th>\n",
       "      <td>1</td>\n",
       "      <td>9.32</td>\n",
       "      <td>0.001565</td>\n",
       "      <td>0.001692</td>\n",
       "    </tr>\n",
       "    <tr>\n",
       "      <th>2</th>\n",
       "      <td>2</td>\n",
       "      <td>9.79</td>\n",
       "      <td>0.008960</td>\n",
       "      <td>0.010652</td>\n",
       "    </tr>\n",
       "    <tr>\n",
       "      <th>3</th>\n",
       "      <td>3</td>\n",
       "      <td>10.29</td>\n",
       "      <td>0.031769</td>\n",
       "      <td>0.042421</td>\n",
       "    </tr>\n",
       "    <tr>\n",
       "      <th>4</th>\n",
       "      <td>4</td>\n",
       "      <td>10.81</td>\n",
       "      <td>0.077978</td>\n",
       "      <td>0.120399</td>\n",
       "    </tr>\n",
       "    <tr>\n",
       "      <th>5</th>\n",
       "      <td>5</td>\n",
       "      <td>11.37</td>\n",
       "      <td>0.140360</td>\n",
       "      <td>0.260760</td>\n",
       "    </tr>\n",
       "    <tr>\n",
       "      <th>6</th>\n",
       "      <td>6</td>\n",
       "      <td>11.95</td>\n",
       "      <td>0.191401</td>\n",
       "      <td>0.452160</td>\n",
       "    </tr>\n",
       "    <tr>\n",
       "      <th>7</th>\n",
       "      <td>7</td>\n",
       "      <td>12.56</td>\n",
       "      <td>0.201344</td>\n",
       "      <td>0.653504</td>\n",
       "    </tr>\n",
       "    <tr>\n",
       "      <th>8</th>\n",
       "      <td>8</td>\n",
       "      <td>13.20</td>\n",
       "      <td>0.164736</td>\n",
       "      <td>0.818240</td>\n",
       "    </tr>\n",
       "    <tr>\n",
       "      <th>9</th>\n",
       "      <td>9</td>\n",
       "      <td>13.87</td>\n",
       "      <td>0.104832</td>\n",
       "      <td>0.923071</td>\n",
       "    </tr>\n",
       "    <tr>\n",
       "      <th>10</th>\n",
       "      <td>10</td>\n",
       "      <td>14.58</td>\n",
       "      <td>0.051463</td>\n",
       "      <td>0.974534</td>\n",
       "    </tr>\n",
       "    <tr>\n",
       "      <th>11</th>\n",
       "      <td>11</td>\n",
       "      <td>15.32</td>\n",
       "      <td>0.019139</td>\n",
       "      <td>0.993673</td>\n",
       "    </tr>\n",
       "    <tr>\n",
       "      <th>12</th>\n",
       "      <td>12</td>\n",
       "      <td>16.10</td>\n",
       "      <td>0.005220</td>\n",
       "      <td>0.998893</td>\n",
       "    </tr>\n",
       "    <tr>\n",
       "      <th>13</th>\n",
       "      <td>13</td>\n",
       "      <td>16.92</td>\n",
       "      <td>0.000986</td>\n",
       "      <td>0.999879</td>\n",
       "    </tr>\n",
       "    <tr>\n",
       "      <th>14</th>\n",
       "      <td>14</td>\n",
       "      <td>17.79</td>\n",
       "      <td>0.000115</td>\n",
       "      <td>0.999994</td>\n",
       "    </tr>\n",
       "    <tr>\n",
       "      <th>15</th>\n",
       "      <td>15</td>\n",
       "      <td>18.70</td>\n",
       "      <td>0.000006</td>\n",
       "      <td>1.000000</td>\n",
       "    </tr>\n",
       "  </tbody>\n",
       "</table>\n",
       "</div>"
      ],
      "text/plain": [
       "    Instante  Preço  Probabilidade  Probabilidade Acum\n",
       "0          0   8.86       0.000127            0.000127\n",
       "1          1   9.32       0.001565            0.001692\n",
       "2          2   9.79       0.008960            0.010652\n",
       "3          3  10.29       0.031769            0.042421\n",
       "4          4  10.81       0.077978            0.120399\n",
       "5          5  11.37       0.140360            0.260760\n",
       "6          6  11.95       0.191401            0.452160\n",
       "7          7  12.56       0.201344            0.653504\n",
       "8          8  13.20       0.164736            0.818240\n",
       "9          9  13.87       0.104832            0.923071\n",
       "10        10  14.58       0.051463            0.974534\n",
       "11        11  15.32       0.019139            0.993673\n",
       "12        12  16.10       0.005220            0.998893\n",
       "13        13  16.92       0.000986            0.999879\n",
       "14        14  17.79       0.000115            0.999994\n",
       "15        15  18.70       0.000006            1.000000"
      ]
     },
     "metadata": {},
     "output_type": "display_data"
    },
    {
     "name": "stdout",
     "output_type": "stream",
     "text": [
      "b) Probabilidade da ação valer mais que 13.0 no instante 15: 34.65%\n"
     ]
    }
   ],
   "source": [
    "#  7ª Questão:\n",
    "#  b)\n",
    "import numpy as np \n",
    "import pandas as pd\n",
    "from scipy.stats import binom\n",
    "\n",
    "#  Taxa de Aumento\n",
    "Tx_A = 1.03\n",
    "\n",
    "#  Taxa de Redução\n",
    "Tx_R = 0.98\n",
    "\n",
    "#  Instante Final\n",
    "IF = 15 \n",
    "\n",
    "#  Criando Data Frame\n",
    "t = np.arange(0,IF+1)\n",
    "df = pd.DataFrame({'Instante': t})\n",
    "\n",
    "df['Preço'] = round(VI * (Tx_A**df['Instante']) * (Tx_R**(IF-df['Instante'])), 2)\n",
    "df['Probabilidade'] = binom.pmf(df['Instante'], IF, P_A)\n",
    "df['Probabilidade Acum'] = binom.cdf(df['Instante'], IF, P_A)\n",
    "display(df)\n",
    "\n",
    "#  Probabilidade de valer mais que 13.0 reais:\n",
    "v_13 = df.loc[df['Preço'] >= 13, 'Probabilidade']\n",
    "v_13 = v_13.sum()\n",
    "\n",
    "print(f'b) Probabilidade da ação valer mais que 13.0 no instante 15: {v_13:.2%}')"
   ]
  },
  {
   "cell_type": "markdown",
   "id": "c9e43a3b-b65b-45e1-ac77-8dbd5cb2f079",
   "metadata": {},
   "source": [
    "---"
   ]
  },
  {
   "cell_type": "markdown",
   "id": "6a3f2bab-830f-4371-942e-47e9662295eb",
   "metadata": {},
   "source": [
    "8ª Questão:  Um lote de 50 peças é enviado para inspeção. O inspetor testa 5 peças e aceita o lote diretamente se as 5 peças forem consideradas boas. Se pelo menos uma for defeituosa todas as 50 peças são testadas. Considerando um lote com 6 peças defeituosas, determine a probabilidade do lote ser aceito diretamente."
   ]
  },
  {
   "cell_type": "markdown",
   "id": "ecb94651-d3db-49d0-9853-31585516ed04",
   "metadata": {},
   "source": [
    "**Resposta:**\n",
    "\n",
    "Probabilidade do lote ser aceito diretamente: 38.44%"
   ]
  },
  {
   "cell_type": "markdown",
   "id": "6f44f59c-b9a9-4c2d-a392-4e961daeb373",
   "metadata": {},
   "source": [
    "Resolução:"
   ]
  },
  {
   "cell_type": "code",
   "execution_count": 12,
   "id": "fc639aef-9406-4d8d-81d9-ddc69713cb96",
   "metadata": {},
   "outputs": [
    {
     "name": "stdout",
     "output_type": "stream",
     "text": [
      "Probabilidade do lote ser aceito diretamente: 38.44%\n"
     ]
    }
   ],
   "source": [
    "#  8ª Questão:\n",
    "import numpy as np \n",
    "import pandas as pd\n",
    "from scipy.stats import hypergeom\n",
    "\n",
    "#  Quantidade para não ser aceito\n",
    "k = 1 \n",
    "\n",
    "#  Numero peças\n",
    "M = 50\n",
    "\n",
    "#  Tamanho da Amostra\n",
    "n = 5\n",
    "\n",
    "#  Peças Defeituosas\n",
    "N = 6\n",
    "\n",
    "#  Probabilidade Hypergeometrica pmf(k, M, n, N)\n",
    "prb = hypergeom.pmf(k, M, n, N)\n",
    "\n",
    "print(f'Probabilidade do lote ser aceito diretamente: {prb:.2%}')"
   ]
  },
  {
   "cell_type": "markdown",
   "id": "6eb7ec34-d3b7-4505-8fa4-6ab7a78638a5",
   "metadata": {},
   "source": [
    "---"
   ]
  },
  {
   "cell_type": "markdown",
   "id": "8efe7dc5-2209-499e-b28c-b3d91aa6051b",
   "metadata": {},
   "source": [
    "9ª Questão:  Uma fábrica de carros sabe que os motores de sua fabricação têm duração de acordo com uma distribuição normal com média µ = 150:000 Km e desvio-padrão σ = 5:000 km. Qual é a probabilidade de que um carro qualquer tenha um motor que dure:"
   ]
  },
  {
   "cell_type": "markdown",
   "id": "c91583d5-8bcb-41bb-b849-872aea8c77b9",
   "metadata": {},
   "source": [
    "a) Pelo menos 160.000 Km?\n",
    "\n",
    "b) Entre 140.000 e 165.000 Km?\n",
    "\n",
    "c) Se a fábrica substitui o motor que apresente duração inferior à garantia, qual deve ser a garantia em Km para que a porcentagem de motores substituídos seja inferior à 0,2%?"
   ]
  },
  {
   "cell_type": "markdown",
   "id": "09617426-60ad-4840-8c4d-0835664b03f7",
   "metadata": {},
   "source": [
    "**Respostas:**\n",
    "\n",
    "a) Pelo menos 160000km: 2.28%\n",
    "\n",
    "b) Entre 140.000 e 165.000 km: 97.59%\n",
    "\n",
    "c) A garantia deve ser de: 139731.26 km"
   ]
  },
  {
   "cell_type": "markdown",
   "id": "fe4a6ce2-9831-4565-b7cd-bb8439822f51",
   "metadata": {},
   "source": [
    "Resolução:"
   ]
  },
  {
   "cell_type": "code",
   "execution_count": 13,
   "id": "2496d68c-bae1-4871-8a1d-8660fa5a19af",
   "metadata": {},
   "outputs": [
    {
     "name": "stdout",
     "output_type": "stream",
     "text": [
      "a) Pelo menos 160.000 km: 2.28%\n"
     ]
    }
   ],
   "source": [
    "#  9ª Questão:\n",
    "#  a)\n",
    "import numpy as np \n",
    "import pandas as pd\n",
    "from scipy.stats import norm\n",
    "\n",
    "#  Média\n",
    "media = 150000 \n",
    "\n",
    "#  Desvio\n",
    "std_dev = 5000\n",
    "\n",
    "#  Distribuição normal.\n",
    "prb = (1 - norm.cdf(160000, media, std_dev))\n",
    "\n",
    "print(f'a) Pelo menos 160.000 km: {prb:.2%}')"
   ]
  },
  {
   "cell_type": "code",
   "execution_count": 14,
   "id": "a0743b36-6463-41c2-ba8e-0b4a7b36be20",
   "metadata": {},
   "outputs": [
    {
     "name": "stdout",
     "output_type": "stream",
     "text": [
      "b) Entre 140.000 e 165.000 km: 97.59%\n"
     ]
    }
   ],
   "source": [
    "#  9ª Questão:\n",
    "#  b)\n",
    "import numpy as np \n",
    "import pandas as pd\n",
    "from scipy.stats import norm\n",
    "\n",
    "#  Média\n",
    "media = 150000 \n",
    "\n",
    "#  Desvio\n",
    "std_dev = 5000\n",
    "\n",
    "#  Distribuição normal.\n",
    "prb_1 = (1 - norm.cdf(140000, media, std_dev))\n",
    "prb_2 = (1 - norm.cdf(165000, media, std_dev))\n",
    "\n",
    "# P(140000 < Z < 165000)\n",
    "prb = (prb_1 - prb_2)\n",
    "\n",
    "print(f'b) Entre 140.000 e 165.000 km: {prb:.2%}')"
   ]
  },
  {
   "cell_type": "code",
   "execution_count": 15,
   "id": "8d4ec9b8-ba3f-454d-ba67-7d72510df579",
   "metadata": {},
   "outputs": [
    {
     "name": "stdout",
     "output_type": "stream",
     "text": [
      "c) A garantia deve ser de: 139731.26 km\n"
     ]
    }
   ],
   "source": [
    "#  9ª Questão:\n",
    "#  c)\n",
    "import numpy as np \n",
    "import pandas as pd\n",
    "from scipy.stats import norm\n",
    "\n",
    "#  Probabilidade dada no enunciado.\n",
    "probabilidade = 0.02\n",
    "\n",
    "#  Média\n",
    "media = 150000 \n",
    "\n",
    "#  Desvio\n",
    "std_dev = 5000\n",
    "\n",
    "#  Gausseana Inversa \n",
    "prb = (norm.ppf(probabilidade, media, std_dev))\n",
    "\n",
    "print(f'c) A garantia deve ser de: {prb:.2f} km')"
   ]
  },
  {
   "cell_type": "markdown",
   "id": "bb689365-f3e3-4471-8223-dd4c169546ce",
   "metadata": {},
   "source": [
    "---"
   ]
  },
  {
   "cell_type": "markdown",
   "id": "ee114271-2d2b-4e0b-955a-21a8a74310e2",
   "metadata": {},
   "source": [
    "10ª Questão:  Uma pessoa decide investir em um título cambial comprando US$ 200000,00. A taxa de câmbio atual real/dolar é 2,0. Suponha que o desvio padrão diário da taxa de câmbio R seja 5,0% e que possa ser modelada por uma variável aleatória normal. Qual é a perda máxima em real em 1 dia com 95% de chances?"
   ]
  },
  {
   "cell_type": "markdown",
   "id": "419c9266-6dd3-49d1-a63e-58e5d837cf45",
   "metadata": {},
   "source": [
    "**Resposta:**\n",
    "\n",
    "Perda maxima em 1 dia: 32897.07 de reais"
   ]
  },
  {
   "cell_type": "markdown",
   "id": "efd6d7fa-7cda-4c84-b6bd-1654aade6530",
   "metadata": {},
   "source": [
    "Resolução:"
   ]
  },
  {
   "cell_type": "code",
   "execution_count": 16,
   "id": "e4d2cfe5-9b01-4954-bde3-1a2272e46ef4",
   "metadata": {},
   "outputs": [
    {
     "name": "stdout",
     "output_type": "stream",
     "text": [
      "Perda maxima em 1 dia: 32897.07 de reais\n"
     ]
    }
   ],
   "source": [
    "#  10ª Questão:\n",
    "import numpy as np \n",
    "import pandas as pd\n",
    "from scipy.stats import norm\n",
    "\n",
    "#  Taxa Cambio\n",
    "tx_camb = 2 \n",
    "\n",
    "#  Investimento Inicial\n",
    "invest_ini = 200000 * tx_camb \n",
    "\n",
    "#  Desvio padrão\n",
    "std_dev = 0.05 * invest_ini\n",
    "\n",
    "#  Probabilidade\n",
    "probabilidade = 0.95\n",
    "\n",
    "#  Distribuição normal.\n",
    "distr = (norm.ppf(probabilidade, invest_ini, std_dev))\n",
    "var = distr - invest_ini\n",
    "\n",
    "print(f'Perda maxima em 1 dia: {var:.2f} de reais')"
   ]
  },
  {
   "cell_type": "markdown",
   "id": "34965ab3-ef58-45cf-8676-c1a648c76e0a",
   "metadata": {},
   "source": [
    "---"
   ]
  },
  {
   "cell_type": "markdown",
   "id": "e46cffa5-d8db-4ecc-b605-796d61a4e2db",
   "metadata": {},
   "source": [
    "11ª Questão:  Considere um jogo em que se paga 25,00 para entrar, e se joga 3 dados. Se apenas uma das faces der 1 ganha-se 25,00, se exatamente 2 faces derem 1 ganha-se 225,00, e se as 3 faces derem 1 ganha-se R$425,00. Qualquer outro resultado não se ganha nada. Calcule: "
   ]
  },
  {
   "cell_type": "markdown",
   "id": "b155a266-7a58-416e-aa4d-adbff12b8fd0",
   "metadata": {},
   "source": [
    "i) o lucro esperado do jogador e responda se vale a pena ou não entrar nesse jogo; \n",
    "\n",
    "ii) a variância do lucro do jogador"
   ]
  },
  {
   "cell_type": "markdown",
   "id": "e19c43a5-c8a7-4dda-b77c-c07bce5e03fe",
   "metadata": {},
   "source": [
    "**Respostas:**\n",
    "\n",
    "i) Lucro esperado: 1.27 de reais\n",
    "\n",
    "ii) Variancia do jogador: 3878.59"
   ]
  },
  {
   "cell_type": "markdown",
   "id": "3ac68bf3-975f-460f-b532-1b53fd9856ac",
   "metadata": {},
   "source": [
    "Resolução:"
   ]
  },
  {
   "cell_type": "code",
   "execution_count": 17,
   "id": "34404c98-8f37-468b-9494-a9c9a701b44f",
   "metadata": {},
   "outputs": [
    {
     "name": "stdout",
     "output_type": "stream",
     "text": [
      "i) Lucro esperado: 1.27 de reais\n"
     ]
    }
   ],
   "source": [
    "#  11ª Questão:\n",
    "#  I)\n",
    "prob_0 = (5/6)*(5/6)*(5/6)\n",
    "lucro_0 = 0 - 25\n",
    "\n",
    "prob_1 = 3*(1/6)*(5/6)*(5/6)\n",
    "lucro_1 = 25 - 25\n",
    "\n",
    "prob_2 = 3*(1/6)*(1/6)*(5/6)\n",
    "lucro_2 = 225 - 25\n",
    "\n",
    "prob_3 = (1/6)*(1/6)*(1/6)\n",
    "lucro_3 = 425 - 25\n",
    "\n",
    "prob = [prob_0, prob_1, prob_2, prob_3]\n",
    "lucro = [lucro_0, lucro_1, lucro_2, lucro_3]\n",
    "\n",
    "lucro_esperado = sum(x * y for x, y in zip(lucro, prob))\n",
    "print(f'i) Lucro esperado: {lucro_esperado:.2f} de reais')"
   ]
  },
  {
   "cell_type": "code",
   "execution_count": 18,
   "id": "56c2e64f-6533-4fdf-a030-2cf9ce8feb47",
   "metadata": {},
   "outputs": [
    {
     "name": "stdout",
     "output_type": "stream",
     "text": [
      "ii) Variancia do jogador: 3878.59\n"
     ]
    }
   ],
   "source": [
    "#  11ª Questão:\n",
    "#  II)\n",
    "\n",
    "variancia = sum(y*((x - lucro_esperado)**2) for x, y in zip(lucro, prob))\n",
    "print(f'ii) Variancia do jogador: {variancia:.2f}')"
   ]
  },
  {
   "cell_type": "markdown",
   "id": "c08e94ad-350c-4fbd-ac8c-c692defbf008",
   "metadata": {},
   "source": [
    "---"
   ]
  },
  {
   "cell_type": "markdown",
   "id": "0f0ef32c-640f-4c83-82d5-22a374fe7e72",
   "metadata": {},
   "source": [
    "12ª Questão:  O verão na cidade de São Sebastião é classificado como sendo um verão chuvoso ou um verão ensolarado. Os lucros das 2 principais empresas de São Sebastião, o hotel São Sebastião e a indústria de guarda-chuvas São Sebastião dependem da classificação do verão, conforme a tabela 2. Sabe-se que 30% dos verões são chuvosos e 70% são ensolarados. Sejam as variáveis X1 e X2 o lucro do hotel São Sebastião e da indústria de guarda-chuvas São Sebastião respectivamente. Pergunta-se: "
   ]
  },
  {
   "cell_type": "markdown",
   "id": "ba1a8241-94d4-48bc-9c8c-c41020554938",
   "metadata": {},
   "source": [
    "a) Qual é o fator de correlação entre X1 e X2? \n",
    "\n",
    "b) Suponha que voce seja dono de a% do hotel e (100 − a)% da indústria de guarda-chuvas, com 0 ≤ a ≤ 100. Qual deveria ser o valor de a para se ter risco zero, e qual seria o lucro garantido nesse caso?"
   ]
  },
  {
   "cell_type": "markdown",
   "id": "33c94147-4c78-4b95-ba71-3ec86f545782",
   "metadata": {},
   "source": [
    "**Respostas:**\n",
    "\n",
    "a) Ro: -1.00 \n",
    "\n",
    "b) a: 0.57 e o lucro garantido: 1285.71 reais"
   ]
  },
  {
   "cell_type": "markdown",
   "id": "6760e625-b04f-45ad-9b55-457226c550e1",
   "metadata": {},
   "source": [
    "Resolução:"
   ]
  },
  {
   "cell_type": "code",
   "execution_count": 19,
   "id": "ae00c113-2ec1-4f4f-a5ee-8ea0c7983429",
   "metadata": {},
   "outputs": [
    {
     "name": "stdout",
     "output_type": "stream",
     "text": [
      "a) Ro: -1.00\n"
     ]
    }
   ],
   "source": [
    "#  12ª Questão:\n",
    "#  a)\n",
    "\n",
    "import numpy as np \n",
    "\n",
    "#  Verão Chuvoso\n",
    "p_verao_chuva = 0.3\n",
    "lucro_hotel_chuva = -1500\n",
    "lucro_indus_chuva = 5000\n",
    "\n",
    "#  Verão Sol\n",
    "p_verao_sol = 0.7\n",
    "lucro_hotel_sol = 3000\n",
    "lucro_indus_sol = -1000\n",
    "\n",
    "\n",
    "E_x1 = (p_verao_chuva * lucro_hotel_chuva) + (p_verao_sol * lucro_hotel_sol)\n",
    "E_x2 = (p_verao_chuva * lucro_indus_chuva) + (p_verao_sol * lucro_indus_sol)\n",
    "\n",
    "E_x1_x2 = (lucro_hotel_chuva*lucro_indus_chuva*p_verao_chuva) + (lucro_hotel_sol*lucro_indus_sol*p_verao_sol)\n",
    "\n",
    "#  Encontrando a Covariancia\n",
    "cov_x1_x2 = (E_x1_x2 - (E_x1*E_x2))\n",
    "\n",
    "#  Encontrando os Sigma\n",
    "sigma_1 = np.sqrt(p_verao_chuva*(lucro_hotel_chuva-E_x1)**2 + p_verao_sol*(lucro_hotel_sol-E_x1)**2)\n",
    "sigma_2 = np.sqrt(p_verao_chuva*(lucro_indus_chuva-E_x2)**2 + p_verao_sol*(lucro_indus_sol-E_x2)**2)\n",
    "\n",
    "#  Encontrando o Ro\n",
    "ro = cov_x1_x2 / (sigma_1 * sigma_2)\n",
    "\n",
    "print(f'a) Ro: {ro:.2f}')"
   ]
  },
  {
   "cell_type": "code",
   "execution_count": 20,
   "id": "a20a3e57-d645-427f-9a0c-43ea268a5d21",
   "metadata": {},
   "outputs": [
    {
     "name": "stdout",
     "output_type": "stream",
     "text": [
      "b) a: 0.57 e lucro garantido: 1285.71 reais\n"
     ]
    }
   ],
   "source": [
    "#  12ª Questão:\n",
    "#  b)\n",
    "\n",
    "\n",
    "#  Zerando risco: a = σ2/(σ1 + σ2)\n",
    "a = sigma_2 / (sigma_1 + sigma_2)\n",
    "\n",
    "#  Encontrando lucro garnatido\n",
    "lucro_g = (a * E_x1) + ((1 - a) * E_x2)\n",
    "\n",
    "print(f'b) a: {a:.2f} e lucro garantido: {lucro_g:.2f} reais')"
   ]
  }
 ],
 "metadata": {
  "kernelspec": {
   "display_name": "Python 3 (ipykernel)",
   "language": "python",
   "name": "python3"
  },
  "language_info": {
   "codemirror_mode": {
    "name": "ipython",
    "version": 3
   },
   "file_extension": ".py",
   "mimetype": "text/x-python",
   "name": "python",
   "nbconvert_exporter": "python",
   "pygments_lexer": "ipython3",
   "version": "3.9.13"
  }
 },
 "nbformat": 4,
 "nbformat_minor": 5
}
